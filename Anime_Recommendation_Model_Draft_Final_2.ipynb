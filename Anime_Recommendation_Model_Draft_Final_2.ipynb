{
  "nbformat": 4,
  "nbformat_minor": 0,
  "metadata": {
    "colab": {
      "provenance": [],
      "machine_shape": "hm"
    },
    "kernelspec": {
      "name": "python3",
      "display_name": "Python 3"
    },
    "language_info": {
      "name": "python"
    }
  },
  "cells": [
    {
      "cell_type": "markdown",
      "source": [
        "# Introduction\n",
        "\n",
        "This is the main notebook containing all the findings gathered from all previous noteboooks summarized into one. The goal of this notebook is to create an Anime Recommenation System.\n",
        "\n",
        "Steps include:\n",
        "\n",
        "1. Environment Setup\n",
        "2. Preprocessing Data\n",
        "3. Training CBRS Models\n",
        "4. Training NCFRS Models\n",
        "5. Generating Recommendations\n",
        "6. Deploy Models on Flask"
      ],
      "metadata": {
        "id": "bNAiLg8F1zpb"
      }
    },
    {
      "cell_type": "markdown",
      "source": [
        "# Preliminary Setup : (Libraries, Data Loading, etc...)"
      ],
      "metadata": {
        "id": "jvXTb6zk8GqA"
      }
    },
    {
      "cell_type": "markdown",
      "source": [
        "## Libraries Setup"
      ],
      "metadata": {
        "id": "6i_peDYG9TJX"
      }
    },
    {
      "cell_type": "code",
      "source": [
        "!pip install scikit-surprise\n",
        "!pip install Flask pyngrok\n",
        "!pip install scikeras"
      ],
      "metadata": {
        "colab": {
          "base_uri": "https://localhost:8080/"
        },
        "id": "6XVA0eE89VoZ",
        "outputId": "67780420-3a96-43a7-a9ec-004f4972c501"
      },
      "execution_count": 2,
      "outputs": [
        {
          "output_type": "stream",
          "name": "stdout",
          "text": [
            "Requirement already satisfied: scikit-surprise in /usr/local/lib/python3.10/dist-packages (1.1.4)\n",
            "Requirement already satisfied: joblib>=1.2.0 in /usr/local/lib/python3.10/dist-packages (from scikit-surprise) (1.4.2)\n",
            "Requirement already satisfied: numpy>=1.19.5 in /usr/local/lib/python3.10/dist-packages (from scikit-surprise) (1.25.2)\n",
            "Requirement already satisfied: scipy>=1.6.0 in /usr/local/lib/python3.10/dist-packages (from scikit-surprise) (1.11.4)\n",
            "Requirement already satisfied: Flask in /usr/local/lib/python3.10/dist-packages (2.2.5)\n",
            "Requirement already satisfied: pyngrok in /usr/local/lib/python3.10/dist-packages (7.1.6)\n",
            "Requirement already satisfied: Werkzeug>=2.2.2 in /usr/local/lib/python3.10/dist-packages (from Flask) (3.0.3)\n",
            "Requirement already satisfied: Jinja2>=3.0 in /usr/local/lib/python3.10/dist-packages (from Flask) (3.1.4)\n",
            "Requirement already satisfied: itsdangerous>=2.0 in /usr/local/lib/python3.10/dist-packages (from Flask) (2.2.0)\n",
            "Requirement already satisfied: click>=8.0 in /usr/local/lib/python3.10/dist-packages (from Flask) (8.1.7)\n",
            "Requirement already satisfied: PyYAML>=5.1 in /usr/local/lib/python3.10/dist-packages (from pyngrok) (6.0.1)\n",
            "Requirement already satisfied: MarkupSafe>=2.0 in /usr/local/lib/python3.10/dist-packages (from Jinja2>=3.0->Flask) (2.1.5)\n",
            "Requirement already satisfied: scikeras in /usr/local/lib/python3.10/dist-packages (0.13.0)\n",
            "Requirement already satisfied: keras>=3.2.0 in /usr/local/lib/python3.10/dist-packages (from scikeras) (3.4.1)\n",
            "Requirement already satisfied: scikit-learn>=1.4.2 in /usr/local/lib/python3.10/dist-packages (from scikeras) (1.5.1)\n",
            "Requirement already satisfied: absl-py in /usr/local/lib/python3.10/dist-packages (from keras>=3.2.0->scikeras) (1.4.0)\n",
            "Requirement already satisfied: numpy in /usr/local/lib/python3.10/dist-packages (from keras>=3.2.0->scikeras) (1.25.2)\n",
            "Requirement already satisfied: rich in /usr/local/lib/python3.10/dist-packages (from keras>=3.2.0->scikeras) (13.7.1)\n",
            "Requirement already satisfied: namex in /usr/local/lib/python3.10/dist-packages (from keras>=3.2.0->scikeras) (0.0.8)\n",
            "Requirement already satisfied: h5py in /usr/local/lib/python3.10/dist-packages (from keras>=3.2.0->scikeras) (3.9.0)\n",
            "Requirement already satisfied: optree in /usr/local/lib/python3.10/dist-packages (from keras>=3.2.0->scikeras) (0.12.1)\n",
            "Requirement already satisfied: ml-dtypes in /usr/local/lib/python3.10/dist-packages (from keras>=3.2.0->scikeras) (0.2.0)\n",
            "Requirement already satisfied: packaging in /usr/local/lib/python3.10/dist-packages (from keras>=3.2.0->scikeras) (24.1)\n",
            "Requirement already satisfied: scipy>=1.6.0 in /usr/local/lib/python3.10/dist-packages (from scikit-learn>=1.4.2->scikeras) (1.11.4)\n",
            "Requirement already satisfied: joblib>=1.2.0 in /usr/local/lib/python3.10/dist-packages (from scikit-learn>=1.4.2->scikeras) (1.4.2)\n",
            "Requirement already satisfied: threadpoolctl>=3.1.0 in /usr/local/lib/python3.10/dist-packages (from scikit-learn>=1.4.2->scikeras) (3.5.0)\n",
            "Requirement already satisfied: typing-extensions>=4.5.0 in /usr/local/lib/python3.10/dist-packages (from optree->keras>=3.2.0->scikeras) (4.12.2)\n",
            "Requirement already satisfied: markdown-it-py>=2.2.0 in /usr/local/lib/python3.10/dist-packages (from rich->keras>=3.2.0->scikeras) (3.0.0)\n",
            "Requirement already satisfied: pygments<3.0.0,>=2.13.0 in /usr/local/lib/python3.10/dist-packages (from rich->keras>=3.2.0->scikeras) (2.16.1)\n",
            "Requirement already satisfied: mdurl~=0.1 in /usr/local/lib/python3.10/dist-packages (from markdown-it-py>=2.2.0->rich->keras>=3.2.0->scikeras) (0.1.2)\n"
          ]
        }
      ]
    },
    {
      "cell_type": "code",
      "source": [
        "import pandas as pd\n",
        "import numpy as np\n",
        "import seaborn as sns\n",
        "import string\n",
        "import nltk\n",
        "import re\n",
        "import pickle\n",
        "import tensorflow as tf\n",
        "import matplotlib.pyplot as plt\n",
        "import joblib\n",
        "import os\n",
        "\n",
        "from nltk.corpus import stopwords\n",
        "from flask import Flask, request, render_template_string\n",
        "from pyngrok import ngrok\n",
        "from tensorflow.keras.layers import Embedding, Conv1D, MaxPooling1D, LSTM, Dense, Flatten, Input\n",
        "from tensorflow.keras.models import Model, save_model, load_model\n",
        "from tensorflow.keras.layers import Concatenate, Dropout\n",
        "from sklearn.model_selection import train_test_split as sklearn_train_test_split\n",
        "from sklearn.preprocessing import MultiLabelBinarizer\n",
        "from sklearn.metrics.pairwise import linear_kernel, cosine_similarity\n",
        "from sklearn.feature_extraction.text import CountVectorizer\n",
        "from sklearn.feature_extraction.text import TfidfVectorizer\n",
        "from surprise import Dataset, Reader, accuracy, SVD, KNNBasic\n",
        "from surprise.model_selection import train_test_split, GridSearchCV, cross_validate"
      ],
      "metadata": {
        "id": "01PNuJvW9lBi"
      },
      "execution_count": 3,
      "outputs": []
    },
    {
      "cell_type": "code",
      "source": [
        "# Check if TensorFlow is using the GPU\n",
        "print(\"Num GPUs Available: \", len(tf.config.list_physical_devices('GPU')))"
      ],
      "metadata": {
        "colab": {
          "base_uri": "https://localhost:8080/"
        },
        "id": "v2-OAMz9tTZM",
        "outputId": "c72c7a53-b4d1-469b-e2d9-c842db4e7ea0"
      },
      "execution_count": 4,
      "outputs": [
        {
          "output_type": "stream",
          "name": "stdout",
          "text": [
            "Num GPUs Available:  0\n"
          ]
        }
      ]
    },
    {
      "cell_type": "markdown",
      "source": [
        "## Data Loading"
      ],
      "metadata": {
        "id": "6ze-L2DD-h-5"
      }
    },
    {
      "cell_type": "code",
      "source": [
        "from google.colab import drive\n",
        "drive.mount('/content/drive')"
      ],
      "metadata": {
        "colab": {
          "base_uri": "https://localhost:8080/"
        },
        "id": "7Orwr1P5FaIn",
        "outputId": "60abbe12-1219-4f32-f08e-30dd5f691627"
      },
      "execution_count": 5,
      "outputs": [
        {
          "output_type": "stream",
          "name": "stdout",
          "text": [
            "Mounted at /content/drive\n"
          ]
        }
      ]
    },
    {
      "cell_type": "code",
      "source": [
        "# Loading the data from drive\n",
        "ratings_df = pd.read_csv('/content/drive/MyDrive/FYP/Anime_Recommendation_Data/rating_complete.csv')\n",
        "anime_with_synopsis_df = pd.read_csv('/content/drive/MyDrive/FYP/Anime_Recommendation_Data/anime_with_synopsis.csv')\n",
        "anime_without_s_df = pd.read_csv('/content/drive/MyDrive/FYP/Anime_Recommendation_Data/anime.csv')\n",
        "\n",
        "# Fixing spelling error in dataset\n",
        "anime_with_synopsis_df.rename(columns={'sypnopsis': 'Synopsis'}, inplace=True)\n",
        "anime_df = pd.merge(anime_without_s_df, anime_with_synopsis_df[['MAL_ID', 'Synopsis']], on='MAL_ID', how='left')"
      ],
      "metadata": {
        "id": "Lu6wkAue-lRe"
      },
      "execution_count": 22,
      "outputs": []
    },
    {
      "cell_type": "code",
      "source": [
        "# Untouched df to be used for display purposes\n",
        "Untampered_anime_df = pd.read_csv('/content/drive/MyDrive/FYP/Anime_Recommendation_Data/anime.csv')\n",
        "Untampered_anime_df = pd.merge(Untampered_anime_df, anime_with_synopsis_df[['MAL_ID', 'Synopsis']], on='MAL_ID', how='left')"
      ],
      "metadata": {
        "id": "ygLdcD6A-oxS"
      },
      "execution_count": 45,
      "outputs": []
    },
    {
      "cell_type": "code",
      "source": [
        "Untampered_anime_df['Synopsis'] = Untampered_anime_df['Synopsis'].fillna('')"
      ],
      "metadata": {
        "id": "0daXJizv_DpQ"
      },
      "execution_count": 46,
      "outputs": []
    },
    {
      "cell_type": "code",
      "source": [
        "anime_df.head()"
      ],
      "metadata": {
        "id": "VdxGi1wt-pHU",
        "colab": {
          "base_uri": "https://localhost:8080/",
          "height": 391
        },
        "outputId": "ce9f597a-0296-46f8-e8a2-7c897787031d"
      },
      "execution_count": 7,
      "outputs": [
        {
          "output_type": "execute_result",
          "data": {
            "text/plain": [
              "   MAL_ID                             Name Score  \\\n",
              "0       1                     Cowboy Bebop  8.78   \n",
              "1       5  Cowboy Bebop: Tengoku no Tobira  8.39   \n",
              "2       6                           Trigun  8.24   \n",
              "3       7               Witch Hunter Robin  7.27   \n",
              "4       8                   Bouken Ou Beet  6.98   \n",
              "\n",
              "                                              Genres            English name  \\\n",
              "0    Action, Adventure, Comedy, Drama, Sci-Fi, Space            Cowboy Bebop   \n",
              "1              Action, Drama, Mystery, Sci-Fi, Space  Cowboy Bebop:The Movie   \n",
              "2  Action, Sci-Fi, Adventure, Comedy, Drama, Shounen                  Trigun   \n",
              "3  Action, Mystery, Police, Supernatural, Drama, ...      Witch Hunter Robin   \n",
              "4          Adventure, Fantasy, Shounen, Supernatural  Beet the Vandel Buster   \n",
              "\n",
              "                      Japanese name   Type Episodes  \\\n",
              "0                         カウボーイビバップ     TV       26   \n",
              "1                    カウボーイビバップ 天国の扉  Movie        1   \n",
              "2                             トライガン     TV       26   \n",
              "3  Witch Hunter ROBIN (ウイッチハンターロビン)     TV       26   \n",
              "4                            冒険王ビィト     TV       52   \n",
              "\n",
              "                          Aired    Premiered  ...   Score-9   Score-8  \\\n",
              "0   Apr 3, 1998 to Apr 24, 1999  Spring 1998  ...  182126.0  131625.0   \n",
              "1                   Sep 1, 2001      Unknown  ...   49201.0   49505.0   \n",
              "2   Apr 1, 1998 to Sep 30, 1998  Spring 1998  ...   75651.0   86142.0   \n",
              "3   Jul 2, 2002 to Dec 24, 2002  Summer 2002  ...    4806.0   10128.0   \n",
              "4  Sep 30, 2004 to Sep 29, 2005    Fall 2004  ...     529.0    1242.0   \n",
              "\n",
              "   Score-7  Score-6 Score-5 Score-4 Score-3  Score-2  Score-1  \\\n",
              "0  62330.0  20688.0  8904.0  3184.0  1357.0    741.0   1580.0   \n",
              "1  22632.0   5805.0  1877.0   577.0   221.0    109.0    379.0   \n",
              "2  49432.0  15376.0  5838.0  1965.0   664.0    316.0    533.0   \n",
              "3  11618.0   5709.0  2920.0  1083.0   353.0    164.0    131.0   \n",
              "4   1713.0   1068.0   634.0   265.0    83.0     50.0     27.0   \n",
              "\n",
              "                                            Synopsis  \n",
              "0  In the year 2071, humanity has colonized sever...  \n",
              "1  other day, another bounty—such is the life of ...  \n",
              "2  Vash the Stampede is the man with a $$60,000,0...  \n",
              "3  ches are individuals with special powers like ...  \n",
              "4  It is the dark century and the people are suff...  \n",
              "\n",
              "[5 rows x 36 columns]"
            ],
            "text/html": [
              "\n",
              "  <div id=\"df-c51f8399-0003-4f16-997f-fe8f37149f80\" class=\"colab-df-container\">\n",
              "    <div>\n",
              "<style scoped>\n",
              "    .dataframe tbody tr th:only-of-type {\n",
              "        vertical-align: middle;\n",
              "    }\n",
              "\n",
              "    .dataframe tbody tr th {\n",
              "        vertical-align: top;\n",
              "    }\n",
              "\n",
              "    .dataframe thead th {\n",
              "        text-align: right;\n",
              "    }\n",
              "</style>\n",
              "<table border=\"1\" class=\"dataframe\">\n",
              "  <thead>\n",
              "    <tr style=\"text-align: right;\">\n",
              "      <th></th>\n",
              "      <th>MAL_ID</th>\n",
              "      <th>Name</th>\n",
              "      <th>Score</th>\n",
              "      <th>Genres</th>\n",
              "      <th>English name</th>\n",
              "      <th>Japanese name</th>\n",
              "      <th>Type</th>\n",
              "      <th>Episodes</th>\n",
              "      <th>Aired</th>\n",
              "      <th>Premiered</th>\n",
              "      <th>...</th>\n",
              "      <th>Score-9</th>\n",
              "      <th>Score-8</th>\n",
              "      <th>Score-7</th>\n",
              "      <th>Score-6</th>\n",
              "      <th>Score-5</th>\n",
              "      <th>Score-4</th>\n",
              "      <th>Score-3</th>\n",
              "      <th>Score-2</th>\n",
              "      <th>Score-1</th>\n",
              "      <th>Synopsis</th>\n",
              "    </tr>\n",
              "  </thead>\n",
              "  <tbody>\n",
              "    <tr>\n",
              "      <th>0</th>\n",
              "      <td>1</td>\n",
              "      <td>Cowboy Bebop</td>\n",
              "      <td>8.78</td>\n",
              "      <td>Action, Adventure, Comedy, Drama, Sci-Fi, Space</td>\n",
              "      <td>Cowboy Bebop</td>\n",
              "      <td>カウボーイビバップ</td>\n",
              "      <td>TV</td>\n",
              "      <td>26</td>\n",
              "      <td>Apr 3, 1998 to Apr 24, 1999</td>\n",
              "      <td>Spring 1998</td>\n",
              "      <td>...</td>\n",
              "      <td>182126.0</td>\n",
              "      <td>131625.0</td>\n",
              "      <td>62330.0</td>\n",
              "      <td>20688.0</td>\n",
              "      <td>8904.0</td>\n",
              "      <td>3184.0</td>\n",
              "      <td>1357.0</td>\n",
              "      <td>741.0</td>\n",
              "      <td>1580.0</td>\n",
              "      <td>In the year 2071, humanity has colonized sever...</td>\n",
              "    </tr>\n",
              "    <tr>\n",
              "      <th>1</th>\n",
              "      <td>5</td>\n",
              "      <td>Cowboy Bebop: Tengoku no Tobira</td>\n",
              "      <td>8.39</td>\n",
              "      <td>Action, Drama, Mystery, Sci-Fi, Space</td>\n",
              "      <td>Cowboy Bebop:The Movie</td>\n",
              "      <td>カウボーイビバップ 天国の扉</td>\n",
              "      <td>Movie</td>\n",
              "      <td>1</td>\n",
              "      <td>Sep 1, 2001</td>\n",
              "      <td>Unknown</td>\n",
              "      <td>...</td>\n",
              "      <td>49201.0</td>\n",
              "      <td>49505.0</td>\n",
              "      <td>22632.0</td>\n",
              "      <td>5805.0</td>\n",
              "      <td>1877.0</td>\n",
              "      <td>577.0</td>\n",
              "      <td>221.0</td>\n",
              "      <td>109.0</td>\n",
              "      <td>379.0</td>\n",
              "      <td>other day, another bounty—such is the life of ...</td>\n",
              "    </tr>\n",
              "    <tr>\n",
              "      <th>2</th>\n",
              "      <td>6</td>\n",
              "      <td>Trigun</td>\n",
              "      <td>8.24</td>\n",
              "      <td>Action, Sci-Fi, Adventure, Comedy, Drama, Shounen</td>\n",
              "      <td>Trigun</td>\n",
              "      <td>トライガン</td>\n",
              "      <td>TV</td>\n",
              "      <td>26</td>\n",
              "      <td>Apr 1, 1998 to Sep 30, 1998</td>\n",
              "      <td>Spring 1998</td>\n",
              "      <td>...</td>\n",
              "      <td>75651.0</td>\n",
              "      <td>86142.0</td>\n",
              "      <td>49432.0</td>\n",
              "      <td>15376.0</td>\n",
              "      <td>5838.0</td>\n",
              "      <td>1965.0</td>\n",
              "      <td>664.0</td>\n",
              "      <td>316.0</td>\n",
              "      <td>533.0</td>\n",
              "      <td>Vash the Stampede is the man with a $$60,000,0...</td>\n",
              "    </tr>\n",
              "    <tr>\n",
              "      <th>3</th>\n",
              "      <td>7</td>\n",
              "      <td>Witch Hunter Robin</td>\n",
              "      <td>7.27</td>\n",
              "      <td>Action, Mystery, Police, Supernatural, Drama, ...</td>\n",
              "      <td>Witch Hunter Robin</td>\n",
              "      <td>Witch Hunter ROBIN (ウイッチハンターロビン)</td>\n",
              "      <td>TV</td>\n",
              "      <td>26</td>\n",
              "      <td>Jul 2, 2002 to Dec 24, 2002</td>\n",
              "      <td>Summer 2002</td>\n",
              "      <td>...</td>\n",
              "      <td>4806.0</td>\n",
              "      <td>10128.0</td>\n",
              "      <td>11618.0</td>\n",
              "      <td>5709.0</td>\n",
              "      <td>2920.0</td>\n",
              "      <td>1083.0</td>\n",
              "      <td>353.0</td>\n",
              "      <td>164.0</td>\n",
              "      <td>131.0</td>\n",
              "      <td>ches are individuals with special powers like ...</td>\n",
              "    </tr>\n",
              "    <tr>\n",
              "      <th>4</th>\n",
              "      <td>8</td>\n",
              "      <td>Bouken Ou Beet</td>\n",
              "      <td>6.98</td>\n",
              "      <td>Adventure, Fantasy, Shounen, Supernatural</td>\n",
              "      <td>Beet the Vandel Buster</td>\n",
              "      <td>冒険王ビィト</td>\n",
              "      <td>TV</td>\n",
              "      <td>52</td>\n",
              "      <td>Sep 30, 2004 to Sep 29, 2005</td>\n",
              "      <td>Fall 2004</td>\n",
              "      <td>...</td>\n",
              "      <td>529.0</td>\n",
              "      <td>1242.0</td>\n",
              "      <td>1713.0</td>\n",
              "      <td>1068.0</td>\n",
              "      <td>634.0</td>\n",
              "      <td>265.0</td>\n",
              "      <td>83.0</td>\n",
              "      <td>50.0</td>\n",
              "      <td>27.0</td>\n",
              "      <td>It is the dark century and the people are suff...</td>\n",
              "    </tr>\n",
              "  </tbody>\n",
              "</table>\n",
              "<p>5 rows × 36 columns</p>\n",
              "</div>\n",
              "    <div class=\"colab-df-buttons\">\n",
              "\n",
              "  <div class=\"colab-df-container\">\n",
              "    <button class=\"colab-df-convert\" onclick=\"convertToInteractive('df-c51f8399-0003-4f16-997f-fe8f37149f80')\"\n",
              "            title=\"Convert this dataframe to an interactive table.\"\n",
              "            style=\"display:none;\">\n",
              "\n",
              "  <svg xmlns=\"http://www.w3.org/2000/svg\" height=\"24px\" viewBox=\"0 -960 960 960\">\n",
              "    <path d=\"M120-120v-720h720v720H120Zm60-500h600v-160H180v160Zm220 220h160v-160H400v160Zm0 220h160v-160H400v160ZM180-400h160v-160H180v160Zm440 0h160v-160H620v160ZM180-180h160v-160H180v160Zm440 0h160v-160H620v160Z\"/>\n",
              "  </svg>\n",
              "    </button>\n",
              "\n",
              "  <style>\n",
              "    .colab-df-container {\n",
              "      display:flex;\n",
              "      gap: 12px;\n",
              "    }\n",
              "\n",
              "    .colab-df-convert {\n",
              "      background-color: #E8F0FE;\n",
              "      border: none;\n",
              "      border-radius: 50%;\n",
              "      cursor: pointer;\n",
              "      display: none;\n",
              "      fill: #1967D2;\n",
              "      height: 32px;\n",
              "      padding: 0 0 0 0;\n",
              "      width: 32px;\n",
              "    }\n",
              "\n",
              "    .colab-df-convert:hover {\n",
              "      background-color: #E2EBFA;\n",
              "      box-shadow: 0px 1px 2px rgba(60, 64, 67, 0.3), 0px 1px 3px 1px rgba(60, 64, 67, 0.15);\n",
              "      fill: #174EA6;\n",
              "    }\n",
              "\n",
              "    .colab-df-buttons div {\n",
              "      margin-bottom: 4px;\n",
              "    }\n",
              "\n",
              "    [theme=dark] .colab-df-convert {\n",
              "      background-color: #3B4455;\n",
              "      fill: #D2E3FC;\n",
              "    }\n",
              "\n",
              "    [theme=dark] .colab-df-convert:hover {\n",
              "      background-color: #434B5C;\n",
              "      box-shadow: 0px 1px 3px 1px rgba(0, 0, 0, 0.15);\n",
              "      filter: drop-shadow(0px 1px 2px rgba(0, 0, 0, 0.3));\n",
              "      fill: #FFFFFF;\n",
              "    }\n",
              "  </style>\n",
              "\n",
              "    <script>\n",
              "      const buttonEl =\n",
              "        document.querySelector('#df-c51f8399-0003-4f16-997f-fe8f37149f80 button.colab-df-convert');\n",
              "      buttonEl.style.display =\n",
              "        google.colab.kernel.accessAllowed ? 'block' : 'none';\n",
              "\n",
              "      async function convertToInteractive(key) {\n",
              "        const element = document.querySelector('#df-c51f8399-0003-4f16-997f-fe8f37149f80');\n",
              "        const dataTable =\n",
              "          await google.colab.kernel.invokeFunction('convertToInteractive',\n",
              "                                                    [key], {});\n",
              "        if (!dataTable) return;\n",
              "\n",
              "        const docLinkHtml = 'Like what you see? Visit the ' +\n",
              "          '<a target=\"_blank\" href=https://colab.research.google.com/notebooks/data_table.ipynb>data table notebook</a>'\n",
              "          + ' to learn more about interactive tables.';\n",
              "        element.innerHTML = '';\n",
              "        dataTable['output_type'] = 'display_data';\n",
              "        await google.colab.output.renderOutput(dataTable, element);\n",
              "        const docLink = document.createElement('div');\n",
              "        docLink.innerHTML = docLinkHtml;\n",
              "        element.appendChild(docLink);\n",
              "      }\n",
              "    </script>\n",
              "  </div>\n",
              "\n",
              "\n",
              "<div id=\"df-8ae3d069-3e72-4b0d-aa8a-d4bce1377d5f\">\n",
              "  <button class=\"colab-df-quickchart\" onclick=\"quickchart('df-8ae3d069-3e72-4b0d-aa8a-d4bce1377d5f')\"\n",
              "            title=\"Suggest charts\"\n",
              "            style=\"display:none;\">\n",
              "\n",
              "<svg xmlns=\"http://www.w3.org/2000/svg\" height=\"24px\"viewBox=\"0 0 24 24\"\n",
              "     width=\"24px\">\n",
              "    <g>\n",
              "        <path d=\"M19 3H5c-1.1 0-2 .9-2 2v14c0 1.1.9 2 2 2h14c1.1 0 2-.9 2-2V5c0-1.1-.9-2-2-2zM9 17H7v-7h2v7zm4 0h-2V7h2v10zm4 0h-2v-4h2v4z\"/>\n",
              "    </g>\n",
              "</svg>\n",
              "  </button>\n",
              "\n",
              "<style>\n",
              "  .colab-df-quickchart {\n",
              "      --bg-color: #E8F0FE;\n",
              "      --fill-color: #1967D2;\n",
              "      --hover-bg-color: #E2EBFA;\n",
              "      --hover-fill-color: #174EA6;\n",
              "      --disabled-fill-color: #AAA;\n",
              "      --disabled-bg-color: #DDD;\n",
              "  }\n",
              "\n",
              "  [theme=dark] .colab-df-quickchart {\n",
              "      --bg-color: #3B4455;\n",
              "      --fill-color: #D2E3FC;\n",
              "      --hover-bg-color: #434B5C;\n",
              "      --hover-fill-color: #FFFFFF;\n",
              "      --disabled-bg-color: #3B4455;\n",
              "      --disabled-fill-color: #666;\n",
              "  }\n",
              "\n",
              "  .colab-df-quickchart {\n",
              "    background-color: var(--bg-color);\n",
              "    border: none;\n",
              "    border-radius: 50%;\n",
              "    cursor: pointer;\n",
              "    display: none;\n",
              "    fill: var(--fill-color);\n",
              "    height: 32px;\n",
              "    padding: 0;\n",
              "    width: 32px;\n",
              "  }\n",
              "\n",
              "  .colab-df-quickchart:hover {\n",
              "    background-color: var(--hover-bg-color);\n",
              "    box-shadow: 0 1px 2px rgba(60, 64, 67, 0.3), 0 1px 3px 1px rgba(60, 64, 67, 0.15);\n",
              "    fill: var(--button-hover-fill-color);\n",
              "  }\n",
              "\n",
              "  .colab-df-quickchart-complete:disabled,\n",
              "  .colab-df-quickchart-complete:disabled:hover {\n",
              "    background-color: var(--disabled-bg-color);\n",
              "    fill: var(--disabled-fill-color);\n",
              "    box-shadow: none;\n",
              "  }\n",
              "\n",
              "  .colab-df-spinner {\n",
              "    border: 2px solid var(--fill-color);\n",
              "    border-color: transparent;\n",
              "    border-bottom-color: var(--fill-color);\n",
              "    animation:\n",
              "      spin 1s steps(1) infinite;\n",
              "  }\n",
              "\n",
              "  @keyframes spin {\n",
              "    0% {\n",
              "      border-color: transparent;\n",
              "      border-bottom-color: var(--fill-color);\n",
              "      border-left-color: var(--fill-color);\n",
              "    }\n",
              "    20% {\n",
              "      border-color: transparent;\n",
              "      border-left-color: var(--fill-color);\n",
              "      border-top-color: var(--fill-color);\n",
              "    }\n",
              "    30% {\n",
              "      border-color: transparent;\n",
              "      border-left-color: var(--fill-color);\n",
              "      border-top-color: var(--fill-color);\n",
              "      border-right-color: var(--fill-color);\n",
              "    }\n",
              "    40% {\n",
              "      border-color: transparent;\n",
              "      border-right-color: var(--fill-color);\n",
              "      border-top-color: var(--fill-color);\n",
              "    }\n",
              "    60% {\n",
              "      border-color: transparent;\n",
              "      border-right-color: var(--fill-color);\n",
              "    }\n",
              "    80% {\n",
              "      border-color: transparent;\n",
              "      border-right-color: var(--fill-color);\n",
              "      border-bottom-color: var(--fill-color);\n",
              "    }\n",
              "    90% {\n",
              "      border-color: transparent;\n",
              "      border-bottom-color: var(--fill-color);\n",
              "    }\n",
              "  }\n",
              "</style>\n",
              "\n",
              "  <script>\n",
              "    async function quickchart(key) {\n",
              "      const quickchartButtonEl =\n",
              "        document.querySelector('#' + key + ' button');\n",
              "      quickchartButtonEl.disabled = true;  // To prevent multiple clicks.\n",
              "      quickchartButtonEl.classList.add('colab-df-spinner');\n",
              "      try {\n",
              "        const charts = await google.colab.kernel.invokeFunction(\n",
              "            'suggestCharts', [key], {});\n",
              "      } catch (error) {\n",
              "        console.error('Error during call to suggestCharts:', error);\n",
              "      }\n",
              "      quickchartButtonEl.classList.remove('colab-df-spinner');\n",
              "      quickchartButtonEl.classList.add('colab-df-quickchart-complete');\n",
              "    }\n",
              "    (() => {\n",
              "      let quickchartButtonEl =\n",
              "        document.querySelector('#df-8ae3d069-3e72-4b0d-aa8a-d4bce1377d5f button');\n",
              "      quickchartButtonEl.style.display =\n",
              "        google.colab.kernel.accessAllowed ? 'block' : 'none';\n",
              "    })();\n",
              "  </script>\n",
              "</div>\n",
              "\n",
              "    </div>\n",
              "  </div>\n"
            ],
            "application/vnd.google.colaboratory.intrinsic+json": {
              "type": "dataframe",
              "variable_name": "anime_df"
            }
          },
          "metadata": {},
          "execution_count": 7
        }
      ]
    },
    {
      "cell_type": "code",
      "source": [
        "ratings_df.head()"
      ],
      "metadata": {
        "colab": {
          "base_uri": "https://localhost:8080/",
          "height": 206
        },
        "id": "XGKQIn92-qmi",
        "outputId": "35717389-9470-4904-d3b3-093ade960c98"
      },
      "execution_count": 8,
      "outputs": [
        {
          "output_type": "execute_result",
          "data": {
            "text/plain": [
              "   user_id  anime_id  rating\n",
              "0        0       430       9\n",
              "1        0      1004       5\n",
              "2        0      3010       7\n",
              "3        0       570       7\n",
              "4        0      2762       9"
            ],
            "text/html": [
              "\n",
              "  <div id=\"df-dd72aa2e-12aa-4dbf-a477-33bc293c9708\" class=\"colab-df-container\">\n",
              "    <div>\n",
              "<style scoped>\n",
              "    .dataframe tbody tr th:only-of-type {\n",
              "        vertical-align: middle;\n",
              "    }\n",
              "\n",
              "    .dataframe tbody tr th {\n",
              "        vertical-align: top;\n",
              "    }\n",
              "\n",
              "    .dataframe thead th {\n",
              "        text-align: right;\n",
              "    }\n",
              "</style>\n",
              "<table border=\"1\" class=\"dataframe\">\n",
              "  <thead>\n",
              "    <tr style=\"text-align: right;\">\n",
              "      <th></th>\n",
              "      <th>user_id</th>\n",
              "      <th>anime_id</th>\n",
              "      <th>rating</th>\n",
              "    </tr>\n",
              "  </thead>\n",
              "  <tbody>\n",
              "    <tr>\n",
              "      <th>0</th>\n",
              "      <td>0</td>\n",
              "      <td>430</td>\n",
              "      <td>9</td>\n",
              "    </tr>\n",
              "    <tr>\n",
              "      <th>1</th>\n",
              "      <td>0</td>\n",
              "      <td>1004</td>\n",
              "      <td>5</td>\n",
              "    </tr>\n",
              "    <tr>\n",
              "      <th>2</th>\n",
              "      <td>0</td>\n",
              "      <td>3010</td>\n",
              "      <td>7</td>\n",
              "    </tr>\n",
              "    <tr>\n",
              "      <th>3</th>\n",
              "      <td>0</td>\n",
              "      <td>570</td>\n",
              "      <td>7</td>\n",
              "    </tr>\n",
              "    <tr>\n",
              "      <th>4</th>\n",
              "      <td>0</td>\n",
              "      <td>2762</td>\n",
              "      <td>9</td>\n",
              "    </tr>\n",
              "  </tbody>\n",
              "</table>\n",
              "</div>\n",
              "    <div class=\"colab-df-buttons\">\n",
              "\n",
              "  <div class=\"colab-df-container\">\n",
              "    <button class=\"colab-df-convert\" onclick=\"convertToInteractive('df-dd72aa2e-12aa-4dbf-a477-33bc293c9708')\"\n",
              "            title=\"Convert this dataframe to an interactive table.\"\n",
              "            style=\"display:none;\">\n",
              "\n",
              "  <svg xmlns=\"http://www.w3.org/2000/svg\" height=\"24px\" viewBox=\"0 -960 960 960\">\n",
              "    <path d=\"M120-120v-720h720v720H120Zm60-500h600v-160H180v160Zm220 220h160v-160H400v160Zm0 220h160v-160H400v160ZM180-400h160v-160H180v160Zm440 0h160v-160H620v160ZM180-180h160v-160H180v160Zm440 0h160v-160H620v160Z\"/>\n",
              "  </svg>\n",
              "    </button>\n",
              "\n",
              "  <style>\n",
              "    .colab-df-container {\n",
              "      display:flex;\n",
              "      gap: 12px;\n",
              "    }\n",
              "\n",
              "    .colab-df-convert {\n",
              "      background-color: #E8F0FE;\n",
              "      border: none;\n",
              "      border-radius: 50%;\n",
              "      cursor: pointer;\n",
              "      display: none;\n",
              "      fill: #1967D2;\n",
              "      height: 32px;\n",
              "      padding: 0 0 0 0;\n",
              "      width: 32px;\n",
              "    }\n",
              "\n",
              "    .colab-df-convert:hover {\n",
              "      background-color: #E2EBFA;\n",
              "      box-shadow: 0px 1px 2px rgba(60, 64, 67, 0.3), 0px 1px 3px 1px rgba(60, 64, 67, 0.15);\n",
              "      fill: #174EA6;\n",
              "    }\n",
              "\n",
              "    .colab-df-buttons div {\n",
              "      margin-bottom: 4px;\n",
              "    }\n",
              "\n",
              "    [theme=dark] .colab-df-convert {\n",
              "      background-color: #3B4455;\n",
              "      fill: #D2E3FC;\n",
              "    }\n",
              "\n",
              "    [theme=dark] .colab-df-convert:hover {\n",
              "      background-color: #434B5C;\n",
              "      box-shadow: 0px 1px 3px 1px rgba(0, 0, 0, 0.15);\n",
              "      filter: drop-shadow(0px 1px 2px rgba(0, 0, 0, 0.3));\n",
              "      fill: #FFFFFF;\n",
              "    }\n",
              "  </style>\n",
              "\n",
              "    <script>\n",
              "      const buttonEl =\n",
              "        document.querySelector('#df-dd72aa2e-12aa-4dbf-a477-33bc293c9708 button.colab-df-convert');\n",
              "      buttonEl.style.display =\n",
              "        google.colab.kernel.accessAllowed ? 'block' : 'none';\n",
              "\n",
              "      async function convertToInteractive(key) {\n",
              "        const element = document.querySelector('#df-dd72aa2e-12aa-4dbf-a477-33bc293c9708');\n",
              "        const dataTable =\n",
              "          await google.colab.kernel.invokeFunction('convertToInteractive',\n",
              "                                                    [key], {});\n",
              "        if (!dataTable) return;\n",
              "\n",
              "        const docLinkHtml = 'Like what you see? Visit the ' +\n",
              "          '<a target=\"_blank\" href=https://colab.research.google.com/notebooks/data_table.ipynb>data table notebook</a>'\n",
              "          + ' to learn more about interactive tables.';\n",
              "        element.innerHTML = '';\n",
              "        dataTable['output_type'] = 'display_data';\n",
              "        await google.colab.output.renderOutput(dataTable, element);\n",
              "        const docLink = document.createElement('div');\n",
              "        docLink.innerHTML = docLinkHtml;\n",
              "        element.appendChild(docLink);\n",
              "      }\n",
              "    </script>\n",
              "  </div>\n",
              "\n",
              "\n",
              "<div id=\"df-22f4eed7-1f3b-48d2-9993-d695a5f580c6\">\n",
              "  <button class=\"colab-df-quickchart\" onclick=\"quickchart('df-22f4eed7-1f3b-48d2-9993-d695a5f580c6')\"\n",
              "            title=\"Suggest charts\"\n",
              "            style=\"display:none;\">\n",
              "\n",
              "<svg xmlns=\"http://www.w3.org/2000/svg\" height=\"24px\"viewBox=\"0 0 24 24\"\n",
              "     width=\"24px\">\n",
              "    <g>\n",
              "        <path d=\"M19 3H5c-1.1 0-2 .9-2 2v14c0 1.1.9 2 2 2h14c1.1 0 2-.9 2-2V5c0-1.1-.9-2-2-2zM9 17H7v-7h2v7zm4 0h-2V7h2v10zm4 0h-2v-4h2v4z\"/>\n",
              "    </g>\n",
              "</svg>\n",
              "  </button>\n",
              "\n",
              "<style>\n",
              "  .colab-df-quickchart {\n",
              "      --bg-color: #E8F0FE;\n",
              "      --fill-color: #1967D2;\n",
              "      --hover-bg-color: #E2EBFA;\n",
              "      --hover-fill-color: #174EA6;\n",
              "      --disabled-fill-color: #AAA;\n",
              "      --disabled-bg-color: #DDD;\n",
              "  }\n",
              "\n",
              "  [theme=dark] .colab-df-quickchart {\n",
              "      --bg-color: #3B4455;\n",
              "      --fill-color: #D2E3FC;\n",
              "      --hover-bg-color: #434B5C;\n",
              "      --hover-fill-color: #FFFFFF;\n",
              "      --disabled-bg-color: #3B4455;\n",
              "      --disabled-fill-color: #666;\n",
              "  }\n",
              "\n",
              "  .colab-df-quickchart {\n",
              "    background-color: var(--bg-color);\n",
              "    border: none;\n",
              "    border-radius: 50%;\n",
              "    cursor: pointer;\n",
              "    display: none;\n",
              "    fill: var(--fill-color);\n",
              "    height: 32px;\n",
              "    padding: 0;\n",
              "    width: 32px;\n",
              "  }\n",
              "\n",
              "  .colab-df-quickchart:hover {\n",
              "    background-color: var(--hover-bg-color);\n",
              "    box-shadow: 0 1px 2px rgba(60, 64, 67, 0.3), 0 1px 3px 1px rgba(60, 64, 67, 0.15);\n",
              "    fill: var(--button-hover-fill-color);\n",
              "  }\n",
              "\n",
              "  .colab-df-quickchart-complete:disabled,\n",
              "  .colab-df-quickchart-complete:disabled:hover {\n",
              "    background-color: var(--disabled-bg-color);\n",
              "    fill: var(--disabled-fill-color);\n",
              "    box-shadow: none;\n",
              "  }\n",
              "\n",
              "  .colab-df-spinner {\n",
              "    border: 2px solid var(--fill-color);\n",
              "    border-color: transparent;\n",
              "    border-bottom-color: var(--fill-color);\n",
              "    animation:\n",
              "      spin 1s steps(1) infinite;\n",
              "  }\n",
              "\n",
              "  @keyframes spin {\n",
              "    0% {\n",
              "      border-color: transparent;\n",
              "      border-bottom-color: var(--fill-color);\n",
              "      border-left-color: var(--fill-color);\n",
              "    }\n",
              "    20% {\n",
              "      border-color: transparent;\n",
              "      border-left-color: var(--fill-color);\n",
              "      border-top-color: var(--fill-color);\n",
              "    }\n",
              "    30% {\n",
              "      border-color: transparent;\n",
              "      border-left-color: var(--fill-color);\n",
              "      border-top-color: var(--fill-color);\n",
              "      border-right-color: var(--fill-color);\n",
              "    }\n",
              "    40% {\n",
              "      border-color: transparent;\n",
              "      border-right-color: var(--fill-color);\n",
              "      border-top-color: var(--fill-color);\n",
              "    }\n",
              "    60% {\n",
              "      border-color: transparent;\n",
              "      border-right-color: var(--fill-color);\n",
              "    }\n",
              "    80% {\n",
              "      border-color: transparent;\n",
              "      border-right-color: var(--fill-color);\n",
              "      border-bottom-color: var(--fill-color);\n",
              "    }\n",
              "    90% {\n",
              "      border-color: transparent;\n",
              "      border-bottom-color: var(--fill-color);\n",
              "    }\n",
              "  }\n",
              "</style>\n",
              "\n",
              "  <script>\n",
              "    async function quickchart(key) {\n",
              "      const quickchartButtonEl =\n",
              "        document.querySelector('#' + key + ' button');\n",
              "      quickchartButtonEl.disabled = true;  // To prevent multiple clicks.\n",
              "      quickchartButtonEl.classList.add('colab-df-spinner');\n",
              "      try {\n",
              "        const charts = await google.colab.kernel.invokeFunction(\n",
              "            'suggestCharts', [key], {});\n",
              "      } catch (error) {\n",
              "        console.error('Error during call to suggestCharts:', error);\n",
              "      }\n",
              "      quickchartButtonEl.classList.remove('colab-df-spinner');\n",
              "      quickchartButtonEl.classList.add('colab-df-quickchart-complete');\n",
              "    }\n",
              "    (() => {\n",
              "      let quickchartButtonEl =\n",
              "        document.querySelector('#df-22f4eed7-1f3b-48d2-9993-d695a5f580c6 button');\n",
              "      quickchartButtonEl.style.display =\n",
              "        google.colab.kernel.accessAllowed ? 'block' : 'none';\n",
              "    })();\n",
              "  </script>\n",
              "</div>\n",
              "\n",
              "    </div>\n",
              "  </div>\n"
            ],
            "application/vnd.google.colaboratory.intrinsic+json": {
              "type": "dataframe",
              "variable_name": "ratings_df"
            }
          },
          "metadata": {},
          "execution_count": 8
        }
      ]
    },
    {
      "cell_type": "markdown",
      "source": [
        "# Preprocessing Data"
      ],
      "metadata": {
        "id": "T3aXc8QR8Gnv"
      }
    },
    {
      "cell_type": "markdown",
      "source": [
        "## Removing Missing Data\n",
        "\n",
        "In this section, we provide a brief overview of the data, including checking for missing values.\n"
      ],
      "metadata": {
        "id": "RKvSYXKW-1_n"
      }
    },
    {
      "cell_type": "code",
      "source": [
        "# Highlighting important data related to the dataframes\n",
        "print(f\"Number of ratings in the ratings dataframe: {ratings_df.shape[0]}\")\n",
        "print(f\"Number of unique users in the ratings dataframe: {ratings_df['user_id'].nunique()}\")\n",
        "print(\"\\n\")\n",
        "print(f\"Number of anime in the anime dataframe: {anime_df.shape[0]}\")\n",
        "print(f\"Number of unique anime in the ratings dataframe: {ratings_df['anime_id'].nunique()}\")\n",
        "print(\"\\n\")"
      ],
      "metadata": {
        "id": "7wvkJVQd-ght",
        "colab": {
          "base_uri": "https://localhost:8080/"
        },
        "outputId": "31871c9c-3c44-4c4a-fc00-6eb8a9406516"
      },
      "execution_count": 23,
      "outputs": [
        {
          "output_type": "stream",
          "name": "stdout",
          "text": [
            "Number of ratings in the ratings dataframe: 57633278\n",
            "Number of unique users in the ratings dataframe: 310059\n",
            "\n",
            "\n",
            "Number of anime in the anime dataframe: 17562\n",
            "Number of unique anime in the ratings dataframe: 16872\n",
            "\n",
            "\n"
          ]
        }
      ]
    },
    {
      "cell_type": "code",
      "source": [
        "# Checking for missing values in the dataframes\n",
        "print(f\"Checking for missing values in the anime dataframe: {anime_df.isnull().sum()}\\n\")\n",
        "print(f\"Checking for missing values in the ratings dataframe: {ratings_df.isnull().sum()}\\n\")"
      ],
      "metadata": {
        "id": "wiszkg-7_Mym",
        "colab": {
          "base_uri": "https://localhost:8080/"
        },
        "outputId": "2520038a-c1b0-41b7-9f5c-75bb012e0565"
      },
      "execution_count": 24,
      "outputs": [
        {
          "output_type": "stream",
          "name": "stdout",
          "text": [
            "Checking for missing values in the anime dataframe: MAL_ID              0\n",
            "Name                0\n",
            "Score               0\n",
            "Genres              0\n",
            "English name        0\n",
            "Japanese name       0\n",
            "Type                0\n",
            "Episodes            0\n",
            "Aired               0\n",
            "Premiered           0\n",
            "Producers           0\n",
            "Licensors           0\n",
            "Studios             0\n",
            "Source              0\n",
            "Duration            0\n",
            "Rating              0\n",
            "Ranked              0\n",
            "Popularity          0\n",
            "Members             0\n",
            "Favorites           0\n",
            "Watching            0\n",
            "Completed           0\n",
            "On-Hold             0\n",
            "Dropped             0\n",
            "Plan to Watch       0\n",
            "Score-10            0\n",
            "Score-9             0\n",
            "Score-8             0\n",
            "Score-7             0\n",
            "Score-6             0\n",
            "Score-5             0\n",
            "Score-4             0\n",
            "Score-3             0\n",
            "Score-2             0\n",
            "Score-1             0\n",
            "Synopsis         1356\n",
            "dtype: int64\n",
            "\n",
            "Checking for missing values in the ratings dataframe: user_id     0\n",
            "anime_id    0\n",
            "rating      0\n",
            "dtype: int64\n",
            "\n"
          ]
        }
      ]
    },
    {
      "cell_type": "code",
      "source": [
        "# Handle the missing values for synopsis\n",
        "anime_df['Synopsis'] = anime_df['Synopsis'].fillna('')"
      ],
      "metadata": {
        "id": "qRMay69r_Q6p"
      },
      "execution_count": 25,
      "outputs": []
    },
    {
      "cell_type": "code",
      "source": [
        "# Checking again for missing values to determine there are none.\n",
        "print(f\"Checking for missing values in the anime dataframe: {anime_df.isnull().sum()}\\n\")\n",
        "print(f\"Checking for missing values in the ratings dataframe: {ratings_df.isnull().sum()}\\n\")"
      ],
      "metadata": {
        "colab": {
          "base_uri": "https://localhost:8080/"
        },
        "id": "sQnZaInT_SQr",
        "outputId": "a5582064-ad21-41a2-d094-3a48f9f5745b"
      },
      "execution_count": 26,
      "outputs": [
        {
          "output_type": "stream",
          "name": "stdout",
          "text": [
            "Checking for missing values in the anime dataframe: MAL_ID           0\n",
            "Name             0\n",
            "Score            0\n",
            "Genres           0\n",
            "English name     0\n",
            "Japanese name    0\n",
            "Type             0\n",
            "Episodes         0\n",
            "Aired            0\n",
            "Premiered        0\n",
            "Producers        0\n",
            "Licensors        0\n",
            "Studios          0\n",
            "Source           0\n",
            "Duration         0\n",
            "Rating           0\n",
            "Ranked           0\n",
            "Popularity       0\n",
            "Members          0\n",
            "Favorites        0\n",
            "Watching         0\n",
            "Completed        0\n",
            "On-Hold          0\n",
            "Dropped          0\n",
            "Plan to Watch    0\n",
            "Score-10         0\n",
            "Score-9          0\n",
            "Score-8          0\n",
            "Score-7          0\n",
            "Score-6          0\n",
            "Score-5          0\n",
            "Score-4          0\n",
            "Score-3          0\n",
            "Score-2          0\n",
            "Score-1          0\n",
            "Synopsis         0\n",
            "dtype: int64\n",
            "\n",
            "Checking for missing values in the ratings dataframe: user_id     0\n",
            "anime_id    0\n",
            "rating      0\n",
            "dtype: int64\n",
            "\n"
          ]
        }
      ]
    },
    {
      "cell_type": "markdown",
      "source": [
        "We perform exploratory data analysis to understand the distribution and characteristics of the data.\n"
      ],
      "metadata": {
        "id": "wcFJdKl2NPiw"
      }
    },
    {
      "cell_type": "code",
      "source": [
        "# Distribution of ratings\n",
        "plt.figure(figsize=(10, 6))\n",
        "sns.histplot(ratings_df['rating'], bins=10, kde=False)\n",
        "plt.title('Distribution of Ratings')\n",
        "plt.xlabel('Rating')\n",
        "plt.ylabel('Count')\n",
        "plt.show()\n",
        "print(\"\\n\")\n",
        "\n",
        "# Number of ratings per user\n",
        "user_ratings_count = ratings_df['user_id'].value_counts()\n",
        "plt.figure(figsize=(10, 6))\n",
        "sns.histplot(user_ratings_count, bins=30, kde=False)\n",
        "plt.title('Number of Ratings per User')\n",
        "plt.xlabel('Number of Ratings')\n",
        "plt.ylabel('Count of Users')\n",
        "plt.show()\n",
        "print(\"\\n\")\n",
        "\n",
        "# Number of ratings per anime\n",
        "anime_ratings_count = ratings_df['anime_id'].value_counts()\n",
        "plt.figure(figsize=(10, 6))\n",
        "sns.histplot(anime_ratings_count, bins=30, kde=False)\n",
        "plt.title('Number of Ratings per Anime')\n",
        "plt.xlabel('Number of Ratings')\n",
        "plt.ylabel('Count of Animes')\n",
        "plt.show()"
      ],
      "metadata": {
        "colab": {
          "base_uri": "https://localhost:8080/",
          "height": 1000
        },
        "id": "Y8OGEPdMNKZG",
        "outputId": "fc10fc5a-74fa-45dd-a9d5-623d2df7c0f4"
      },
      "execution_count": 13,
      "outputs": [
        {
          "output_type": "display_data",
          "data": {
            "text/plain": [
              "<Figure size 1000x600 with 1 Axes>"
            ],
            "image/png": "[encoded data removed]"
          },
          "metadata": {}
        },
        {
          "output_type": "stream",
          "name": "stdout",
          "text": [
            "\n",
            "\n"
          ]
        },
        {
          "output_type": "display_data",
          "data": {
            "text/plain": [
              "<Figure size 1000x600 with 1 Axes>"
            ],
            "image/png": "[encoded data removed]"
          },
          "metadata": {}
        },
        {
          "output_type": "stream",
          "name": "stdout",
          "text": [
            "\n",
            "\n"
          ]
        },
        {
          "output_type": "display_data",
          "data": {
            "text/plain": [
              "<Figure size 1000x600 with 1 Axes>"
            ],
            "image/png": "[encoded data removed]"
          },
          "metadata": {}
        }
      ]
    },
    {
      "cell_type": "code",
      "source": [
        "# Top 10 most rated animes\n",
        "top_anime = anime_ratings_count.head(10)\n",
        "top_anime_names = anime_df[anime_df['MAL_ID'].isin(top_anime.index)]['Name']\n",
        "plt.figure(figsize=(10, 6))\n",
        "sns.barplot(x=top_anime_names, y=top_anime.values)\n",
        "plt.title('Top 10 Most Rated Animes')\n",
        "plt.xlabel('Anime')\n",
        "plt.ylabel('Number of Ratings')\n",
        "plt.xticks(rotation=90)\n",
        "plt.show()"
      ],
      "metadata": {
        "colab": {
          "base_uri": "https://localhost:8080/",
          "height": 791
        },
        "id": "D5yVUNYGurdI",
        "outputId": "e3a77e8a-ec98-45e7-9e98-36b90fc74819"
      },
      "execution_count": 14,
      "outputs": [
        {
          "output_type": "display_data",
          "data": {
            "text/plain": [
              "<Figure size 1000x600 with 1 Axes>"
            ],
            "image/png": "[encoded data removed]"
          },
          "metadata": {}
        }
      ]
    },
    {
      "cell_type": "code",
      "source": [
        "# Split the Genres column into individual genres and explode them into separate rows\n",
        "anime_df['Genres'] = anime_df['Genres'].str.split(', ')\n",
        "exploded_genres = anime_df.explode('Genres')\n",
        "\n",
        "# Count the number of occurrences of each genre\n",
        "genre_counts = exploded_genres['Genres'].value_counts()\n",
        "\n",
        "# Plot the most popular genres\n",
        "plt.figure(figsize=(14, 8))\n",
        "sns.barplot(x=genre_counts.values, y=genre_counts.index)\n",
        "plt.title('Most Popular Genres')\n",
        "plt.xlabel('Number of Animes')\n",
        "plt.ylabel('Genre')\n",
        "plt.show()"
      ],
      "metadata": {
        "colab": {
          "base_uri": "https://localhost:8080/",
          "height": 718
        },
        "id": "mA0BMdMcvTw_",
        "outputId": "11867c3b-388b-4b00-fbf8-b002b0ac032b"
      },
      "execution_count": 15,
      "outputs": [
        {
          "output_type": "display_data",
          "data": {
            "text/plain": [
              "<Figure size 1400x800 with 1 Axes>"
            ],
            "image/png": "[encoded data removed]"
          },
          "metadata": {}
        }
      ]
    },
    {
      "cell_type": "markdown",
      "source": [
        "## Cleaning and Removing Unnecessary Data\n",
        "\n",
        "We clean the data by removing unnecessary text, handling missing values, and filtering out less relevant information. We also encode the categorical features to be used in the models later on.\n"
      ],
      "metadata": {
        "id": "9PAijzuB_cpw"
      }
    },
    {
      "cell_type": "code",
      "source": [
        "# Creating functions to clean textual data\n",
        "nltk.download('stopwords')\n",
        "stop_words = set(stopwords.words('english'))\n",
        "\n",
        "# Function used to process/clean text by removing non-essential text\n",
        "def preprocess_text_heavy(text):\n",
        "    # Lowercase\n",
        "    text = text.lower()\n",
        "    # Remove punctuation\n",
        "    text = text.translate(str.maketrans('', '', string.punctuation))\n",
        "    # Remove numbers\n",
        "    text = re.sub(r'\\d+', '', text)\n",
        "    # Replace multiple spaces with a single space\n",
        "    text = re.sub(r'\\s+', ' ', text).strip()\n",
        "    # Tokenize\n",
        "    words = text.split()\n",
        "    # Remove stopwords and rejoin into a string\n",
        "    return ' '.join([word for word in words if word.lower() not in stop_words])\n",
        "\n",
        "    return text\n",
        "\n",
        "# A lighter preprocessing function\n",
        "def process_text(text):\n",
        "    return text.lower().split(', ') if pd.notna(text) else []"
      ],
      "metadata": {
        "colab": {
          "base_uri": "https://localhost:8080/"
        },
        "id": "-eHxeuwo_cNz",
        "outputId": "ffa4619c-22fe-4f95-c517-74b0f4295afc"
      },
      "execution_count": 27,
      "outputs": [
        {
          "output_type": "stream",
          "name": "stderr",
          "text": [
            "[nltk_data] Downloading package stopwords to /root/nltk_data...\n",
            "[nltk_data]   Package stopwords is already up-to-date!\n"
          ]
        }
      ]
    },
    {
      "cell_type": "code",
      "source": [
        "# Dropping unnecessary columns from anime_df\n",
        "anime_df = anime_df[['MAL_ID', 'Name', 'Genres', 'Score', 'Type', 'Studios', 'Synopsis']]\n",
        "\n",
        "# Cleaning the synopsis text to tokenize later\n",
        "anime_df['Synopsis'] = anime_df['Synopsis'].apply(preprocess_text_heavy)\n",
        "\n",
        "# Lighter preprocessing for the other columns\n",
        "anime_df['Genres'] = anime_df['Genres'].apply(process_text)\n",
        "anime_df['Studios'] = anime_df['Studios'].apply(process_text)\n",
        "\n",
        "# Since there is one type, we only need to lowercase the strings\n",
        "anime_df['Type'] = anime_df['Type'].apply(lambda x: [x.lower()] if pd.notna(x) else [])\n",
        "\n",
        "## Encoding categorical data\n",
        "# One-hot encoding for Genres\n",
        "mlb_genres = MultiLabelBinarizer()\n",
        "genres_encoded = mlb_genres.fit_transform(anime_df['Genres'])\n",
        "genres_df = pd.DataFrame(genres_encoded, columns=mlb_genres.classes_)\n",
        "\n",
        "# One-hot encoding for Studios\n",
        "mlb_studios = MultiLabelBinarizer()\n",
        "studios_encoded = mlb_studios.fit_transform(anime_df['Studios'])\n",
        "studios_df = pd.DataFrame(studios_encoded, columns=mlb_studios.classes_)\n",
        "\n",
        "# One-hot encoding for Type\n",
        "mlb_type = MultiLabelBinarizer()\n",
        "type_encoded = mlb_type.fit_transform(anime_df['Type'])\n",
        "type_df = pd.DataFrame(type_encoded, columns=mlb_type.classes_)\n",
        "\n",
        "# Concatenate the encoded dataframes\n",
        "anime_df = pd.concat([anime_df, genres_df, studios_df, type_df], axis=1)\n",
        "\n",
        "# Drop the original categorical columns\n",
        "anime_df = anime_df.drop(['Genres', 'Studios', 'Type'], axis=1)\n",
        "\n",
        "# Save cleaned up anime df\n",
        "# anime_df.to_csv('/content/drive/MyDrive/FYP/Anime_Recommendation_Data/anime_cleaned.csv', index=False)\n",
        "\n",
        "anime_df_minified = anime_df[['MAL_ID', 'Name', 'Score', 'Synopsis']]\n",
        "\n",
        "# Replace non-numeric 'Score' values with NaN and then fill NaN with 0\n",
        "anime_df['Score'] = pd.to_numeric(anime_df['Score'], errors='coerce').fillna(0)"
      ],
      "metadata": {
        "id": "UpFdHZLvwK5w"
      },
      "execution_count": 28,
      "outputs": []
    },
    {
      "cell_type": "code",
      "source": [
        "anime_df.head()"
      ],
      "metadata": {
        "colab": {
          "base_uri": "https://localhost:8080/",
          "height": 235
        },
        "id": "t8kYJvOnDz8C",
        "outputId": "1669b171-8f50-4066-d953-f26d53404d5d"
      },
      "execution_count": 29,
      "outputs": [
        {
          "output_type": "execute_result",
          "data": {
            "text/plain": [
              "   MAL_ID                             Name  Score  \\\n",
              "0       1                     Cowboy Bebop   8.78   \n",
              "1       5  Cowboy Bebop: Tengoku no Tobira   8.39   \n",
              "2       6                           Trigun   8.24   \n",
              "3       7               Witch Hunter Robin   7.27   \n",
              "4       8                   Bouken Ou Beet   6.98   \n",
              "\n",
              "                                            Synopsis  action  adventure  cars  \\\n",
              "0  year humanity colonized several planets moons ...       1          1     0   \n",
              "1  day another bounty—such life often unlucky cre...       1          0     0   \n",
              "2  vash stampede man bounty head reason hes merci...       1          1     0   \n",
              "3  ches individuals special powers like esp telek...       1          0     0   \n",
              "4  dark century people suffering rule devil vande...       0          1     0   \n",
              "\n",
              "   comedy  dementia  demons  ...  zero-g room  zexcs  ziz entertainment (ziz)  \\\n",
              "0       1         0       0  ...            0      0                        0   \n",
              "1       0         0       0  ...            0      0                        0   \n",
              "2       1         0       0  ...            0      0                        0   \n",
              "3       0         0       0  ...            0      0                        0   \n",
              "4       0         0       0  ...            0      0                        0   \n",
              "\n",
              "   movie  music  ona  ova  special  tv  unknown  \n",
              "0      0      0    0    0        0   1        0  \n",
              "1      1      0    0    0        0   0        0  \n",
              "2      0      0    0    0        0   1        0  \n",
              "3      0      0    0    0        0   1        0  \n",
              "4      0      0    0    0        0   1        0  \n",
              "\n",
              "[5 rows x 777 columns]"
            ],
            "text/html": [
              "\n",
              "  <div id=\"df-f1cbcdcc-aa99-4033-8bf6-3c7fbce1658a\" class=\"colab-df-container\">\n",
              "    <div>\n",
              "<style scoped>\n",
              "    .dataframe tbody tr th:only-of-type {\n",
              "        vertical-align: middle;\n",
              "    }\n",
              "\n",
              "    .dataframe tbody tr th {\n",
              "        vertical-align: top;\n",
              "    }\n",
              "\n",
              "    .dataframe thead th {\n",
              "        text-align: right;\n",
              "    }\n",
              "</style>\n",
              "<table border=\"1\" class=\"dataframe\">\n",
              "  <thead>\n",
              "    <tr style=\"text-align: right;\">\n",
              "      <th></th>\n",
              "      <th>MAL_ID</th>\n",
              "      <th>Name</th>\n",
              "      <th>Score</th>\n",
              "      <th>Synopsis</th>\n",
              "      <th>action</th>\n",
              "      <th>adventure</th>\n",
              "      <th>cars</th>\n",
              "      <th>comedy</th>\n",
              "      <th>dementia</th>\n",
              "      <th>demons</th>\n",
              "      <th>...</th>\n",
              "      <th>zero-g room</th>\n",
              "      <th>zexcs</th>\n",
              "      <th>ziz entertainment (ziz)</th>\n",
              "      <th>movie</th>\n",
              "      <th>music</th>\n",
              "      <th>ona</th>\n",
              "      <th>ova</th>\n",
              "      <th>special</th>\n",
              "      <th>tv</th>\n",
              "      <th>unknown</th>\n",
              "    </tr>\n",
              "  </thead>\n",
              "  <tbody>\n",
              "    <tr>\n",
              "      <th>0</th>\n",
              "      <td>1</td>\n",
              "      <td>Cowboy Bebop</td>\n",
              "      <td>8.78</td>\n",
              "      <td>year humanity colonized several planets moons ...</td>\n",
              "      <td>1</td>\n",
              "      <td>1</td>\n",
              "      <td>0</td>\n",
              "      <td>1</td>\n",
              "      <td>0</td>\n",
              "      <td>0</td>\n",
              "      <td>...</td>\n",
              "      <td>0</td>\n",
              "      <td>0</td>\n",
              "      <td>0</td>\n",
              "      <td>0</td>\n",
              "      <td>0</td>\n",
              "      <td>0</td>\n",
              "      <td>0</td>\n",
              "      <td>0</td>\n",
              "      <td>1</td>\n",
              "      <td>0</td>\n",
              "    </tr>\n",
              "    <tr>\n",
              "      <th>1</th>\n",
              "      <td>5</td>\n",
              "      <td>Cowboy Bebop: Tengoku no Tobira</td>\n",
              "      <td>8.39</td>\n",
              "      <td>day another bounty—such life often unlucky cre...</td>\n",
              "      <td>1</td>\n",
              "      <td>0</td>\n",
              "      <td>0</td>\n",
              "      <td>0</td>\n",
              "      <td>0</td>\n",
              "      <td>0</td>\n",
              "      <td>...</td>\n",
              "      <td>0</td>\n",
              "      <td>0</td>\n",
              "      <td>0</td>\n",
              "      <td>1</td>\n",
              "      <td>0</td>\n",
              "      <td>0</td>\n",
              "      <td>0</td>\n",
              "      <td>0</td>\n",
              "      <td>0</td>\n",
              "      <td>0</td>\n",
              "    </tr>\n",
              "    <tr>\n",
              "      <th>2</th>\n",
              "      <td>6</td>\n",
              "      <td>Trigun</td>\n",
              "      <td>8.24</td>\n",
              "      <td>vash stampede man bounty head reason hes merci...</td>\n",
              "      <td>1</td>\n",
              "      <td>1</td>\n",
              "      <td>0</td>\n",
              "      <td>1</td>\n",
              "      <td>0</td>\n",
              "      <td>0</td>\n",
              "      <td>...</td>\n",
              "      <td>0</td>\n",
              "      <td>0</td>\n",
              "      <td>0</td>\n",
              "      <td>0</td>\n",
              "      <td>0</td>\n",
              "      <td>0</td>\n",
              "      <td>0</td>\n",
              "      <td>0</td>\n",
              "      <td>1</td>\n",
              "      <td>0</td>\n",
              "    </tr>\n",
              "    <tr>\n",
              "      <th>3</th>\n",
              "      <td>7</td>\n",
              "      <td>Witch Hunter Robin</td>\n",
              "      <td>7.27</td>\n",
              "      <td>ches individuals special powers like esp telek...</td>\n",
              "      <td>1</td>\n",
              "      <td>0</td>\n",
              "      <td>0</td>\n",
              "      <td>0</td>\n",
              "      <td>0</td>\n",
              "      <td>0</td>\n",
              "      <td>...</td>\n",
              "      <td>0</td>\n",
              "      <td>0</td>\n",
              "      <td>0</td>\n",
              "      <td>0</td>\n",
              "      <td>0</td>\n",
              "      <td>0</td>\n",
              "      <td>0</td>\n",
              "      <td>0</td>\n",
              "      <td>1</td>\n",
              "      <td>0</td>\n",
              "    </tr>\n",
              "    <tr>\n",
              "      <th>4</th>\n",
              "      <td>8</td>\n",
              "      <td>Bouken Ou Beet</td>\n",
              "      <td>6.98</td>\n",
              "      <td>dark century people suffering rule devil vande...</td>\n",
              "      <td>0</td>\n",
              "      <td>1</td>\n",
              "      <td>0</td>\n",
              "      <td>0</td>\n",
              "      <td>0</td>\n",
              "      <td>0</td>\n",
              "      <td>...</td>\n",
              "      <td>0</td>\n",
              "      <td>0</td>\n",
              "      <td>0</td>\n",
              "      <td>0</td>\n",
              "      <td>0</td>\n",
              "      <td>0</td>\n",
              "      <td>0</td>\n",
              "      <td>0</td>\n",
              "      <td>1</td>\n",
              "      <td>0</td>\n",
              "    </tr>\n",
              "  </tbody>\n",
              "</table>\n",
              "<p>5 rows × 777 columns</p>\n",
              "</div>\n",
              "    <div class=\"colab-df-buttons\">\n",
              "\n",
              "  <div class=\"colab-df-container\">\n",
              "    <button class=\"colab-df-convert\" onclick=\"convertToInteractive('df-f1cbcdcc-aa99-4033-8bf6-3c7fbce1658a')\"\n",
              "            title=\"Convert this dataframe to an interactive table.\"\n",
              "            style=\"display:none;\">\n",
              "\n",
              "  <svg xmlns=\"http://www.w3.org/2000/svg\" height=\"24px\" viewBox=\"0 -960 960 960\">\n",
              "    <path d=\"M120-120v-720h720v720H120Zm60-500h600v-160H180v160Zm220 220h160v-160H400v160Zm0 220h160v-160H400v160ZM180-400h160v-160H180v160Zm440 0h160v-160H620v160ZM180-180h160v-160H180v160Zm440 0h160v-160H620v160Z\"/>\n",
              "  </svg>\n",
              "    </button>\n",
              "\n",
              "  <style>\n",
              "    .colab-df-container {\n",
              "      display:flex;\n",
              "      gap: 12px;\n",
              "    }\n",
              "\n",
              "    .colab-df-convert {\n",
              "      background-color: #E8F0FE;\n",
              "      border: none;\n",
              "      border-radius: 50%;\n",
              "      cursor: pointer;\n",
              "      display: none;\n",
              "      fill: #1967D2;\n",
              "      height: 32px;\n",
              "      padding: 0 0 0 0;\n",
              "      width: 32px;\n",
              "    }\n",
              "\n",
              "    .colab-df-convert:hover {\n",
              "      background-color: #E2EBFA;\n",
              "      box-shadow: 0px 1px 2px rgba(60, 64, 67, 0.3), 0px 1px 3px 1px rgba(60, 64, 67, 0.15);\n",
              "      fill: #174EA6;\n",
              "    }\n",
              "\n",
              "    .colab-df-buttons div {\n",
              "      margin-bottom: 4px;\n",
              "    }\n",
              "\n",
              "    [theme=dark] .colab-df-convert {\n",
              "      background-color: #3B4455;\n",
              "      fill: #D2E3FC;\n",
              "    }\n",
              "\n",
              "    [theme=dark] .colab-df-convert:hover {\n",
              "      background-color: #434B5C;\n",
              "      box-shadow: 0px 1px 3px 1px rgba(0, 0, 0, 0.15);\n",
              "      filter: drop-shadow(0px 1px 2px rgba(0, 0, 0, 0.3));\n",
              "      fill: #FFFFFF;\n",
              "    }\n",
              "  </style>\n",
              "\n",
              "    <script>\n",
              "      const buttonEl =\n",
              "        document.querySelector('#df-f1cbcdcc-aa99-4033-8bf6-3c7fbce1658a button.colab-df-convert');\n",
              "      buttonEl.style.display =\n",
              "        google.colab.kernel.accessAllowed ? 'block' : 'none';\n",
              "\n",
              "      async function convertToInteractive(key) {\n",
              "        const element = document.querySelector('#df-f1cbcdcc-aa99-4033-8bf6-3c7fbce1658a');\n",
              "        const dataTable =\n",
              "          await google.colab.kernel.invokeFunction('convertToInteractive',\n",
              "                                                    [key], {});\n",
              "        if (!dataTable) return;\n",
              "\n",
              "        const docLinkHtml = 'Like what you see? Visit the ' +\n",
              "          '<a target=\"_blank\" href=https://colab.research.google.com/notebooks/data_table.ipynb>data table notebook</a>'\n",
              "          + ' to learn more about interactive tables.';\n",
              "        element.innerHTML = '';\n",
              "        dataTable['output_type'] = 'display_data';\n",
              "        await google.colab.output.renderOutput(dataTable, element);\n",
              "        const docLink = document.createElement('div');\n",
              "        docLink.innerHTML = docLinkHtml;\n",
              "        element.appendChild(docLink);\n",
              "      }\n",
              "    </script>\n",
              "  </div>\n",
              "\n",
              "\n",
              "<div id=\"df-b1127e0e-6ca5-4fcc-82e5-b0e13efeef0f\">\n",
              "  <button class=\"colab-df-quickchart\" onclick=\"quickchart('df-b1127e0e-6ca5-4fcc-82e5-b0e13efeef0f')\"\n",
              "            title=\"Suggest charts\"\n",
              "            style=\"display:none;\">\n",
              "\n",
              "<svg xmlns=\"http://www.w3.org/2000/svg\" height=\"24px\"viewBox=\"0 0 24 24\"\n",
              "     width=\"24px\">\n",
              "    <g>\n",
              "        <path d=\"M19 3H5c-1.1 0-2 .9-2 2v14c0 1.1.9 2 2 2h14c1.1 0 2-.9 2-2V5c0-1.1-.9-2-2-2zM9 17H7v-7h2v7zm4 0h-2V7h2v10zm4 0h-2v-4h2v4z\"/>\n",
              "    </g>\n",
              "</svg>\n",
              "  </button>\n",
              "\n",
              "<style>\n",
              "  .colab-df-quickchart {\n",
              "      --bg-color: #E8F0FE;\n",
              "      --fill-color: #1967D2;\n",
              "      --hover-bg-color: #E2EBFA;\n",
              "      --hover-fill-color: #174EA6;\n",
              "      --disabled-fill-color: #AAA;\n",
              "      --disabled-bg-color: #DDD;\n",
              "  }\n",
              "\n",
              "  [theme=dark] .colab-df-quickchart {\n",
              "      --bg-color: #3B4455;\n",
              "      --fill-color: #D2E3FC;\n",
              "      --hover-bg-color: #434B5C;\n",
              "      --hover-fill-color: #FFFFFF;\n",
              "      --disabled-bg-color: #3B4455;\n",
              "      --disabled-fill-color: #666;\n",
              "  }\n",
              "\n",
              "  .colab-df-quickchart {\n",
              "    background-color: var(--bg-color);\n",
              "    border: none;\n",
              "    border-radius: 50%;\n",
              "    cursor: pointer;\n",
              "    display: none;\n",
              "    fill: var(--fill-color);\n",
              "    height: 32px;\n",
              "    padding: 0;\n",
              "    width: 32px;\n",
              "  }\n",
              "\n",
              "  .colab-df-quickchart:hover {\n",
              "    background-color: var(--hover-bg-color);\n",
              "    box-shadow: 0 1px 2px rgba(60, 64, 67, 0.3), 0 1px 3px 1px rgba(60, 64, 67, 0.15);\n",
              "    fill: var(--button-hover-fill-color);\n",
              "  }\n",
              "\n",
              "  .colab-df-quickchart-complete:disabled,\n",
              "  .colab-df-quickchart-complete:disabled:hover {\n",
              "    background-color: var(--disabled-bg-color);\n",
              "    fill: var(--disabled-fill-color);\n",
              "    box-shadow: none;\n",
              "  }\n",
              "\n",
              "  .colab-df-spinner {\n",
              "    border: 2px solid var(--fill-color);\n",
              "    border-color: transparent;\n",
              "    border-bottom-color: var(--fill-color);\n",
              "    animation:\n",
              "      spin 1s steps(1) infinite;\n",
              "  }\n",
              "\n",
              "  @keyframes spin {\n",
              "    0% {\n",
              "      border-color: transparent;\n",
              "      border-bottom-color: var(--fill-color);\n",
              "      border-left-color: var(--fill-color);\n",
              "    }\n",
              "    20% {\n",
              "      border-color: transparent;\n",
              "      border-left-color: var(--fill-color);\n",
              "      border-top-color: var(--fill-color);\n",
              "    }\n",
              "    30% {\n",
              "      border-color: transparent;\n",
              "      border-left-color: var(--fill-color);\n",
              "      border-top-color: var(--fill-color);\n",
              "      border-right-color: var(--fill-color);\n",
              "    }\n",
              "    40% {\n",
              "      border-color: transparent;\n",
              "      border-right-color: var(--fill-color);\n",
              "      border-top-color: var(--fill-color);\n",
              "    }\n",
              "    60% {\n",
              "      border-color: transparent;\n",
              "      border-right-color: var(--fill-color);\n",
              "    }\n",
              "    80% {\n",
              "      border-color: transparent;\n",
              "      border-right-color: var(--fill-color);\n",
              "      border-bottom-color: var(--fill-color);\n",
              "    }\n",
              "    90% {\n",
              "      border-color: transparent;\n",
              "      border-bottom-color: var(--fill-color);\n",
              "    }\n",
              "  }\n",
              "</style>\n",
              "\n",
              "  <script>\n",
              "    async function quickchart(key) {\n",
              "      const quickchartButtonEl =\n",
              "        document.querySelector('#' + key + ' button');\n",
              "      quickchartButtonEl.disabled = true;  // To prevent multiple clicks.\n",
              "      quickchartButtonEl.classList.add('colab-df-spinner');\n",
              "      try {\n",
              "        const charts = await google.colab.kernel.invokeFunction(\n",
              "            'suggestCharts', [key], {});\n",
              "      } catch (error) {\n",
              "        console.error('Error during call to suggestCharts:', error);\n",
              "      }\n",
              "      quickchartButtonEl.classList.remove('colab-df-spinner');\n",
              "      quickchartButtonEl.classList.add('colab-df-quickchart-complete');\n",
              "    }\n",
              "    (() => {\n",
              "      let quickchartButtonEl =\n",
              "        document.querySelector('#df-b1127e0e-6ca5-4fcc-82e5-b0e13efeef0f button');\n",
              "      quickchartButtonEl.style.display =\n",
              "        google.colab.kernel.accessAllowed ? 'block' : 'none';\n",
              "    })();\n",
              "  </script>\n",
              "</div>\n",
              "\n",
              "    </div>\n",
              "  </div>\n"
            ],
            "application/vnd.google.colaboratory.intrinsic+json": {
              "type": "dataframe",
              "variable_name": "anime_df"
            }
          },
          "metadata": {},
          "execution_count": 29
        }
      ]
    },
    {
      "cell_type": "markdown",
      "source": [
        "## Prepairing the Merged Dataset and Filtering Ratings\n",
        "\n",
        "Due to the size of the dataset, it was deemed best to filter the ratings before testing models. The de"
      ],
      "metadata": {
        "id": "IgdX93B7D2gh"
      }
    },
    {
      "cell_type": "code",
      "source": [
        "## Filtering users by number of anime rated\n",
        "min_ratings_per_user = 650\n",
        "min_reg_user = 20\n",
        "max_reg_user = 150\n",
        "\n",
        "# Identify and filter users who fall within the specified range (20-150) and then store 1,000,000 of their ratings\n",
        "user_ratings_count = ratings_df['user_id'].value_counts()\n",
        "reg_users = user_ratings_count[(user_ratings_count >= min_reg_user) & (user_ratings_count <= max_reg_user)].index\n",
        "req_user_ratings = ratings_df[ratings_df['user_id'].isin(reg_users)]\n",
        "limited_reg = req_user_ratings.head(1000000)\n",
        "\n",
        "# Get all users who have rated over 650 anime\n",
        "active_users = user_ratings_count[user_ratings_count >= min_ratings_per_user].index\n",
        "filtered_ratings_df = ratings_df[ratings_df['user_id'].isin(active_users)]\n",
        "\n",
        "## Filtering out anime by number of users (Anime with less than 2,000 members will be filtered out)\n",
        "min_members_per_anime = 2000\n",
        "anime_ratings_count = filtered_ratings_df['anime_id'].value_counts()\n",
        "popular_animes = anime_ratings_count[anime_ratings_count >= min_members_per_anime].index\n",
        "filtered_ratings_df = filtered_ratings_df[filtered_ratings_df['anime_id'].isin(popular_animes)]\n",
        "\n",
        "# Combine the ratings datasets\n",
        "combined_ratings_df = pd.concat([filtered_ratings_df, limited_reg]).drop_duplicates()\n",
        "\n",
        "## Display the number of ratings and unique users after filtering\n",
        "num_ratings_after_filtering = filtered_ratings_df.shape[0]\n",
        "num_unique_users = filtered_ratings_df['user_id'].nunique()\n",
        "num_unique_animes = filtered_ratings_df['anime_id'].nunique()\n",
        "reg_unique_users = limited_reg['user_id'].nunique()\n",
        "reg_unique_anime = limited_reg['anime_id'].nunique()\n",
        "full_num_ratings_after_filtering = combined_ratings_df.shape[0]\n",
        "full_num_unique_users = combined_ratings_df['user_id'].nunique()\n",
        "full_num_unique_animes = combined_ratings_df['anime_id'].nunique()\n",
        "\n",
        "print(f\"Number of seasoned users ratings : {num_ratings_after_filtering}\")\n",
        "print(f\"Number of unique seasoned users : {num_unique_users}\")\n",
        "print(f\"Number of unique animes rated by seasoned viewers: {num_unique_animes}\\n\")\n",
        "print(f\"Number of regular anime users: {reg_unique_users}\")\n",
        "print(f\"Number of ratings made by regular users: {limited_reg.shape[0]}\")\n",
        "print(f\"Number of unique anime rated by regular user:{reg_unique_anime}\\n\")\n",
        "print(f\"Full list of user ratings:{full_num_ratings_after_filtering}\")\n",
        "print(f\"Full list of unique users:{full_num_unique_users}\")\n",
        "print(f\"Full list of unique anime:{full_num_unique_animes}\")"
      ],
      "metadata": {
        "id": "hTO4t9jEFMcP",
        "colab": {
          "base_uri": "https://localhost:8080/"
        },
        "outputId": "1e2971ad-a519-43d3-9e2b-b1774735b26f"
      },
      "execution_count": 30,
      "outputs": [
        {
          "output_type": "stream",
          "name": "stdout",
          "text": [
            "Number of seasoned users ratings : 8946796\n",
            "Number of unique seasoned users : 13047\n",
            "Number of unique animes rated by seasoned viewers: 2143\n",
            "\n",
            "Number of regular anime users: 13083\n",
            "Number of ratings made by regular users: 1000000\n",
            "Number of unique anime rated by regular user:9108\n",
            "\n",
            "Full list of user ratings:9946796\n",
            "Full list of unique users:26130\n",
            "Full list of unique anime:9108\n"
          ]
        }
      ]
    },
    {
      "cell_type": "code",
      "source": [
        "# large_merged_df = pd.merge(combined_ratings_df, anime_df_minified, left_on='anime_id', right_on='MAL_ID')"
      ],
      "metadata": {
        "id": "-DNxyM3aBCOl"
      },
      "execution_count": null,
      "outputs": []
    },
    {
      "cell_type": "markdown",
      "source": [
        "# Content-Based Models (TF-IDF and Count Vectorizer)\n",
        "\n",
        "In this section we build two content-based models using distinct techniques. TF-DF Vectorizer and Count Vectorizer are used to capture the importance of words and calculate the similarity of each anime. The more similar the higher the score.\n",
        "\n",
        "This section has been previously done using the synopsis solely, but did not yield satisfactory results. Therefore features such as genre, studios, and anime type were encoded and trained alongside the synopsis. This yielded significantly better results."
      ],
      "metadata": {
        "id": "KL-f8L9P8GhA"
      }
    },
    {
      "cell_type": "markdown",
      "source": [
        "## Create and Train CBRSs"
      ],
      "metadata": {
        "id": "Sya90v64YjG4"
      }
    },
    {
      "cell_type": "code",
      "source": [
        "# Transform the anime synopses into a TF-IDF matrix\n",
        "tfidf = TfidfVectorizer(stop_words='english')\n",
        "tfidf_matrix = tfidf.fit_transform(anime_df['Synopsis'])\n",
        "\n",
        "# Combine TF-IDF matrix with encoded features\n",
        "encoded_features = anime_df.drop(['MAL_ID', 'Name', 'Synopsis'], axis=1).values\n",
        "tfidf_combined = np.hstack([tfidf_matrix.toarray(), encoded_features])\n",
        "\n",
        "# Compute the cosine similarity matrix\n",
        "tfidf_cosine_sim = cosine_similarity(tfidf_combined, tfidf_combined)\n",
        "\n",
        "#  Create another feature representation using Count Vectorizer\n",
        "count = CountVectorizer(stop_words='english')\n",
        "count_matrix = count.fit_transform(anime_df['Synopsis'])\n",
        "\n",
        "# Combine Count matrix with encoded features\n",
        "count_combined = np.hstack([count_matrix.toarray(), encoded_features])\n",
        "\n",
        "# Compute the cosine similarity matrix\n",
        "count_cosine_sim = cosine_similarity(count_combined, count_combined)"
      ],
      "metadata": {
        "id": "IA38s6mGGp6r"
      },
      "execution_count": null,
      "outputs": []
    },
    {
      "cell_type": "markdown",
      "source": [
        "## Load Previously Trained CBRSs"
      ],
      "metadata": {
        "id": "Tkm4-2w_Ym-C"
      }
    },
    {
      "cell_type": "code",
      "source": [
        "# File paths\n",
        "tfidf_model_path = '/content/drive/MyDrive/FYP/Models/tfidf_model.pkl'\n",
        "count_vectorizer_model_path = '/content/drive/MyDrive/FYP/Models/count_vectorizer_model.pkl'\n",
        "encoded_features_path = '/content/drive/MyDrive/FYP/Models/encoded_features.npy'\n",
        "\n",
        "# Load the saved models\n",
        "tfidf = joblib.load(tfidf_model_path)\n",
        "count = joblib.load(count_vectorizer_model_path)\n",
        "encoded_features = np.load(encoded_features_path)\n",
        "\n",
        "## Compute the similarity matrices again\n",
        "# TF-IDF Model\n",
        "tfidf_matrix = tfidf.transform(anime_df['Synopsis'])\n",
        "tfidf_combined = np.hstack([tfidf_matrix.toarray(), encoded_features])\n",
        "tfidf_cosine_sim = cosine_similarity(tfidf_combined, tfidf_combined)\n",
        "# Count Vectorizer\n",
        "count_matrix = count.transform(anime_df['Synopsis'])\n",
        "count_combined = np.hstack([count_matrix.toarray(), encoded_features])\n",
        "count_cosine_sim = cosine_similarity(count_combined, count_combined)"
      ],
      "metadata": {
        "id": "6R8eLTAAJuXr"
      },
      "execution_count": 31,
      "outputs": []
    },
    {
      "cell_type": "markdown",
      "source": [
        "## Generating Recommendations and Calculating Coverage"
      ],
      "metadata": {
        "id": "AIqppHc2YsXg"
      }
    },
    {
      "cell_type": "code",
      "source": [
        "# Function to generate recommendations using content-based models\n",
        "def get_content_recommendations_2(anime_ids, cosine_sim, df, n=10):\n",
        "\n",
        "    # Get the indices of the anime based on the MAL_ID\n",
        "    indices = [df.index[df['MAL_ID'] == anime_id].tolist()[0] for anime_id in anime_ids]\n",
        "\n",
        "    # Get the similarity scores of the anime based on cosine similarity\n",
        "    sim_scores = np.mean([list(enumerate(cosine_sim[idx])) for idx in indices], axis=0)\n",
        "\n",
        "    # Sort the sim scores in descending order\n",
        "    sim_scores = sorted(sim_scores, key=lambda x: x[1], reverse=True)\n",
        "\n",
        "    # Filter out input anime and select top n\n",
        "    sim_scores = [score for score in sim_scores if score[0] not in indices][:n]\n",
        "\n",
        "    # Get the indices of the top n anime\n",
        "    anime_indices = [i[0] for i in sim_scores]\n",
        "    scores = [i[1] for i in sim_scores]\n",
        "\n",
        "    # Return the top n anime alongside their sim scores\n",
        "    return df.iloc[anime_indices][['MAL_ID', 'Name']], scores\n",
        "\n",
        "# Example anime ids [Cowboy Bebop, Naruto, Bleach]\n",
        "anime_ids_example = [1, 20, 269]\n",
        "\n",
        "# Generate recommendations and sim scores using TF-IDF\n",
        "tfidf_recommendations, tfidf_scores = get_content_recommendations_2(anime_ids_example, tfidf_cosine_sim, anime_df)\n",
        "\n",
        "# Generate recommendations and sim scores using Count\n",
        "count_recommendations, count_scores = get_content_recommendations_2(anime_ids_example, count_cosine_sim, anime_df)\n",
        "\n",
        "print(\"TF-IDF Recommendations:\")\n",
        "print(tfidf_recommendations)\n",
        "print(\"TF-IDF Similarity Scores:\", tfidf_scores)\n",
        "\n",
        "print(\"Count Vectorizer Recommendations:\")\n",
        "print(count_recommendations)\n",
        "print(\"Count Vectorizer Similarity Scores:\", count_scores)"
      ],
      "metadata": {
        "colab": {
          "base_uri": "https://localhost:8080/"
        },
        "id": "VFtW1n-eGrVq",
        "outputId": "3c3da00a-6410-4f1a-fd3e-88a99b349684"
      },
      "execution_count": 32,
      "outputs": [
        {
          "output_type": "stream",
          "name": "stdout",
          "text": [
            "TF-IDF Recommendations:\n",
            "       MAL_ID                                               Name\n",
            "1574     1735                                 Naruto: Shippuuden\n",
            "214       238                                     Rekka no Honoo\n",
            "132       154                                        Shaman King\n",
            "10573   30503                                   Noragami Aragoto\n",
            "4440     6067                                     Moeru! Oniisan\n",
            "11179   31933  JoJo no Kimyou na Bouken Part 4: Diamond wa Ku...\n",
            "8292    20507                                           Noragami\n",
            "450       479                                    Ueki no Housoku\n",
            "11         21                                          One Piece\n",
            "1460     1604                             Katekyo Hitman Reborn!\n",
            "TF-IDF Similarity Scores: [0.9672206496817369, 0.9549828940476286, 0.9546980757538822, 0.9541050974156637, 0.9539987848977881, 0.9533563544150869, 0.9532086084061646, 0.9520467915271377, 0.9518243134225538, 0.9516177706742704]\n",
            "Count Vectorizer Recommendations:\n",
            "       MAL_ID                                               Name\n",
            "16965   42391                            Osomatsu-san 3rd Season\n",
            "12798   35067                            Osomatsu-san 2nd Season\n",
            "5244     8140          Konchuu Monogatari Minashigo Hutch (1989)\n",
            "15947   40059                            Golden Kamuy 3rd Season\n",
            "15631   39486                                 Gintama: The Final\n",
            "2500     2717      Ginga Tetsudou Monogatari: Eien e no Bunkiten\n",
            "7247    15323  One Piece: Episode of Nami - Koukaishi no Nami...\n",
            "6246    10513                                         Usavich IV\n",
            "198       221                                        Mezzo Forte\n",
            "11340   32365  Boruto: Naruto the Movie - Naruto ga Hokage ni...\n",
            "Count Vectorizer Similarity Scores: [0.60576443263614, 0.6018508855294541, 0.601138512557672, 0.6007647521930198, 0.599743208846441, 0.5992804070979049, 0.5988929697798905, 0.5980928033549505, 0.5977219147100632, 0.5976640486619875]\n"
          ]
        }
      ]
    },
    {
      "cell_type": "code",
      "source": [
        "## Save the TF-IDF model\n",
        "#joblib.dump(tfidf, tfidf_model_path)\n",
        "\n",
        "## Save the Count Vectorizer model\n",
        "#count_vectorizer_model_path = '/content/drive/MyDrive/FYP/Models/count_vectorizer_model.pkl'\n",
        "#joblib.dump(count, count_vectorizer_model_path)\n",
        "\n",
        "## Save the combined encoded features for later use\n",
        "#encoded_features_path = '/content/drive/MyDrive/FYP/Models/encoded_features.npy'\n",
        "#np.save(encoded_features_path, encoded_features)"
      ],
      "metadata": {
        "id": "ImospEnqJSgw"
      },
      "execution_count": null,
      "outputs": []
    },
    {
      "cell_type": "code",
      "source": [
        "def get_anime_recommendations_tfidf(title, n=10):\n",
        "    # Get the MAL_ID of the anime based on the title\n",
        "    anime_id = anime_df[anime_df['Name'] == title]['MAL_ID'].values[0]\n",
        "    # Generate recommendations and sim scores using TF-IDF\n",
        "    recommendations, _ = get_content_recommendations_2([anime_id], tfidf_cosine_sim, anime_df, n)\n",
        "    # Return a lost of the recommended anime IDs\n",
        "    return recommendations['MAL_ID'].tolist()\n",
        "\n",
        "def get_anime_recommendations_count(title, n=10):\n",
        "    # Get the MAL_ID of the anime based on the title\n",
        "    anime_id = anime_df[anime_df['Name'] == title]['MAL_ID'].values[0]\n",
        "    # Generate recommendations and sim scores using Count\n",
        "    recommendations, _ = get_content_recommendations_2([anime_id], count_cosine_sim, anime_df, n)\n",
        "    # Return a lost of the recommended anime IDs\n",
        "    return recommendations['MAL_ID'].tolist()"
      ],
      "metadata": {
        "id": "s9XvSi5cJzjT"
      },
      "execution_count": null,
      "outputs": []
    },
    {
      "cell_type": "code",
      "source": [
        "# Coverage: Fraction of items that can be recommended\n",
        "def calculate_coverage(recommendation_function, n=10):\n",
        "    unique_recommendations = set()\n",
        "\n",
        "    # Iterate over each anime in the anime dataframe\n",
        "    for title in anime_df['Name']:\n",
        "        try:\n",
        "            # Generate recommendations for the anime and update set of unique anime\n",
        "            recommendations = recommendation_function(title, n=n)\n",
        "            unique_recommendations.update(recommendations)\n",
        "        except IndexError:\n",
        "            continue  # Skip titles that are not found\n",
        "\n",
        "    # Calculate coverage as the fraction of unique recommendations over the total number of anime\n",
        "    coverage = len(unique_recommendations) / len(anime_df)\n",
        "    return coverage\n",
        "\n",
        "# Coverage for Count Vectorizer\n",
        "coverage_count = calculate_coverage(get_anime_recommendations_count)\n",
        "print(f\"Coverage using Count Vectorizer: {coverage_count:.2f}\")\n",
        "\n",
        "# Coverage for TF-IDF\n",
        "coverage_tfidf = calculate_coverage(get_anime_recommendations_tfidf)\n",
        "print(f\"Coverage using TF-IDF: {coverage_tfidf:.2f}\")"
      ],
      "metadata": {
        "colab": {
          "base_uri": "https://localhost:8080/"
        },
        "id": "XYbJ7T81J8BH",
        "outputId": "2766ad79-463e-4b3d-e1cd-46be9603ee55"
      },
      "execution_count": null,
      "outputs": [
        {
          "output_type": "stream",
          "name": "stdout",
          "text": [
            "Coverage using Count Vectorizer: 0.65\n",
            "Coverage using TF-IDF: 0.94\n"
          ]
        }
      ]
    },
    {
      "cell_type": "markdown",
      "source": [
        "While I subjectively knew the recommendations generated by count vectorizer were of a lower quality this full test clearly sements the difference between the two models. Ultimately, TF-IDF is the superior model."
      ],
      "metadata": {
        "id": "JceeO8C1YHKY"
      }
    },
    {
      "cell_type": "markdown",
      "source": [
        "# Neural Collaborative Filtering (NCFRS)\n",
        "\n",
        "This section aims to build and evaluate the neural collabrative filtering model. There are two distinct models, one was built using the filtered ratings dataset and another was built using the full dataset. The reason for the discrepancy was due to how taxing the full dataset was when training while using the free version. Later, the paid version allowed processing the full ratings dataset.\n",
        "\n",
        "However, integrating the synopsis and encoded features with the full ratings model proved challenging, especially when attempting grid search with additional features. Future iterations will aim to utilize these features more effectively."
      ],
      "metadata": {
        "id": "M4mHAPokY1Z7"
      }
    },
    {
      "cell_type": "markdown",
      "source": [
        "## NCFRS Model Blueprint"
      ],
      "metadata": {
        "id": "3ivYB0UDaNOb"
      }
    },
    {
      "cell_type": "code",
      "source": [
        "# Define the model\n",
        "embedding_dim = 50\n",
        "\n",
        "user_input = Input(shape=(1,), name='user_input')\n",
        "anime_input = Input(shape=(1,), name='anime_input')\n",
        "\n",
        "user_embedding = Embedding(input_dim=combined_ratings_df['user_id'].nunique(), output_dim=embedding_dim, name='user_embedding')(user_input)\n",
        "anime_embedding = Embedding(input_dim=combined_ratings_df['anime_id'].nunique(), output_dim=embedding_dim, name='anime_embedding')(anime_input)\n",
        "\n",
        "user_vec = Flatten()(user_embedding)\n",
        "anime_vec = Flatten()(anime_embedding)\n",
        "\n",
        "concat = Concatenate()([user_vec, anime_vec])\n",
        "dense_1 = Dense(256, activation='relu')(concat)\n",
        "dropout_1 = Dropout(0.2)(dense_1)\n",
        "dense_2 = Dense(128, activation='relu')(dropout_1)\n",
        "dropout_2 = Dropout(0.2)(dense_2)\n",
        "output = Dense(1, activation='linear')(dropout_2)\n",
        "\n",
        "model = Model(inputs=[user_input, anime_input], outputs=output)\n",
        "model.compile(optimizer='adam', loss='mean_squared_error', metrics=['mae'])\n",
        "\n",
        "model.summary()"
      ],
      "metadata": {
        "colab": {
          "base_uri": "https://localhost:8080/",
          "height": 561
        },
        "id": "IGaT-wiZaXM7",
        "outputId": "a6d96f15-4551-4ed9-b460-e7295e5a9139"
      },
      "execution_count": 33,
      "outputs": [
        {
          "output_type": "display_data",
          "data": {
            "text/plain": [
              "\u001b[1mModel: \"functional\"\u001b[0m\n"
            ],
            "text/html": [
              "<pre style=\"white-space:pre;overflow-x:auto;line-height:normal;font-family:Menlo,'DejaVu Sans Mono',consolas,'Courier New',monospace\"><span style=\"font-weight: bold\">Model: \"functional\"</span>\n",
              "</pre>\n"
            ]
          },
          "metadata": {}
        },
        {
          "output_type": "display_data",
          "data": {
            "text/plain": [
              "┏━━━━━━━━━━━━━━━━━━━━━━━━━━━┳━━━━━━━━━━━━━━━━━━━━━━━━┳━━━━━━━━━━━━━━━━┳━━━━━━━━━━━━━━━━━━━━━━━━┓\n",
              "┃\u001b[1m \u001b[0m\u001b[1mLayer (type)             \u001b[0m\u001b[1m \u001b[0m┃\u001b[1m \u001b[0m\u001b[1mOutput Shape          \u001b[0m\u001b[1m \u001b[0m┃\u001b[1m \u001b[0m\u001b[1m       Param #\u001b[0m\u001b[1m \u001b[0m┃\u001b[1m \u001b[0m\u001b[1mConnected to          \u001b[0m\u001b[1m \u001b[0m┃\n",
              "┡━━━━━━━━━━━━━━━━━━━━━━━━━━━╇━━━━━━━━━━━━━━━━━━━━━━━━╇━━━━━━━━━━━━━━━━╇━━━━━━━━━━━━━━━━━━━━━━━━┩\n",
              "│ user_input (\u001b[38;5;33mInputLayer\u001b[0m)   │ (\u001b[38;5;45mNone\u001b[0m, \u001b[38;5;34m1\u001b[0m)              │              \u001b[38;5;34m0\u001b[0m │ -                      │\n",
              "├───────────────────────────┼────────────────────────┼────────────────┼────────────────────────┤\n",
              "│ anime_input (\u001b[38;5;33mInputLayer\u001b[0m)  │ (\u001b[38;5;45mNone\u001b[0m, \u001b[38;5;34m1\u001b[0m)              │              \u001b[38;5;34m0\u001b[0m │ -                      │\n",
              "├───────────────────────────┼────────────────────────┼────────────────┼────────────────────────┤\n",
              "│ user_embedding            │ (\u001b[38;5;45mNone\u001b[0m, \u001b[38;5;34m1\u001b[0m, \u001b[38;5;34m50\u001b[0m)          │      \u001b[38;5;34m1,306,500\u001b[0m │ user_input[\u001b[38;5;34m0\u001b[0m][\u001b[38;5;34m0\u001b[0m]       │\n",
              "│ (\u001b[38;5;33mEmbedding\u001b[0m)               │                        │                │                        │\n",
              "├───────────────────────────┼────────────────────────┼────────────────┼────────────────────────┤\n",
              "│ anime_embedding           │ (\u001b[38;5;45mNone\u001b[0m, \u001b[38;5;34m1\u001b[0m, \u001b[38;5;34m50\u001b[0m)          │        \u001b[38;5;34m455,400\u001b[0m │ anime_input[\u001b[38;5;34m0\u001b[0m][\u001b[38;5;34m0\u001b[0m]      │\n",
              "│ (\u001b[38;5;33mEmbedding\u001b[0m)               │                        │                │                        │\n",
              "├───────────────────────────┼────────────────────────┼────────────────┼────────────────────────┤\n",
              "│ flatten (\u001b[38;5;33mFlatten\u001b[0m)         │ (\u001b[38;5;45mNone\u001b[0m, \u001b[38;5;34m50\u001b[0m)             │              \u001b[38;5;34m0\u001b[0m │ user_embedding[\u001b[38;5;34m0\u001b[0m][\u001b[38;5;34m0\u001b[0m]   │\n",
              "├───────────────────────────┼────────────────────────┼────────────────┼────────────────────────┤\n",
              "│ flatten_1 (\u001b[38;5;33mFlatten\u001b[0m)       │ (\u001b[38;5;45mNone\u001b[0m, \u001b[38;5;34m50\u001b[0m)             │              \u001b[38;5;34m0\u001b[0m │ anime_embedding[\u001b[38;5;34m0\u001b[0m][\u001b[38;5;34m0\u001b[0m]  │\n",
              "├───────────────────────────┼────────────────────────┼────────────────┼────────────────────────┤\n",
              "│ concatenate (\u001b[38;5;33mConcatenate\u001b[0m) │ (\u001b[38;5;45mNone\u001b[0m, \u001b[38;5;34m100\u001b[0m)            │              \u001b[38;5;34m0\u001b[0m │ flatten[\u001b[38;5;34m0\u001b[0m][\u001b[38;5;34m0\u001b[0m],         │\n",
              "│                           │                        │                │ flatten_1[\u001b[38;5;34m0\u001b[0m][\u001b[38;5;34m0\u001b[0m]        │\n",
              "├───────────────────────────┼────────────────────────┼────────────────┼────────────────────────┤\n",
              "│ dense (\u001b[38;5;33mDense\u001b[0m)             │ (\u001b[38;5;45mNone\u001b[0m, \u001b[38;5;34m256\u001b[0m)            │         \u001b[38;5;34m25,856\u001b[0m │ concatenate[\u001b[38;5;34m0\u001b[0m][\u001b[38;5;34m0\u001b[0m]      │\n",
              "├───────────────────────────┼────────────────────────┼────────────────┼────────────────────────┤\n",
              "│ dropout (\u001b[38;5;33mDropout\u001b[0m)         │ (\u001b[38;5;45mNone\u001b[0m, \u001b[38;5;34m256\u001b[0m)            │              \u001b[38;5;34m0\u001b[0m │ dense[\u001b[38;5;34m0\u001b[0m][\u001b[38;5;34m0\u001b[0m]            │\n",
              "├───────────────────────────┼────────────────────────┼────────────────┼────────────────────────┤\n",
              "│ dense_1 (\u001b[38;5;33mDense\u001b[0m)           │ (\u001b[38;5;45mNone\u001b[0m, \u001b[38;5;34m128\u001b[0m)            │         \u001b[38;5;34m32,896\u001b[0m │ dropout[\u001b[38;5;34m0\u001b[0m][\u001b[38;5;34m0\u001b[0m]          │\n",
              "├───────────────────────────┼────────────────────────┼────────────────┼────────────────────────┤\n",
              "│ dropout_1 (\u001b[38;5;33mDropout\u001b[0m)       │ (\u001b[38;5;45mNone\u001b[0m, \u001b[38;5;34m128\u001b[0m)            │              \u001b[38;5;34m0\u001b[0m │ dense_1[\u001b[38;5;34m0\u001b[0m][\u001b[38;5;34m0\u001b[0m]          │\n",
              "├───────────────────────────┼────────────────────────┼────────────────┼────────────────────────┤\n",
              "│ dense_2 (\u001b[38;5;33mDense\u001b[0m)           │ (\u001b[38;5;45mNone\u001b[0m, \u001b[38;5;34m1\u001b[0m)              │            \u001b[38;5;34m129\u001b[0m │ dropout_1[\u001b[38;5;34m0\u001b[0m][\u001b[38;5;34m0\u001b[0m]        │\n",
              "└───────────────────────────┴────────────────────────┴────────────────┴────────────────────────┘\n"
            ],
            "text/html": [
              "<pre style=\"white-space:pre;overflow-x:auto;line-height:normal;font-family:Menlo,'DejaVu Sans Mono',consolas,'Courier New',monospace\">┏━━━━━━━━━━━━━━━━━━━━━━━━━━━┳━━━━━━━━━━━━━━━━━━━━━━━━┳━━━━━━━━━━━━━━━━┳━━━━━━━━━━━━━━━━━━━━━━━━┓\n",
              "┃<span style=\"font-weight: bold\"> Layer (type)              </span>┃<span style=\"font-weight: bold\"> Output Shape           </span>┃<span style=\"font-weight: bold\">        Param # </span>┃<span style=\"font-weight: bold\"> Connected to           </span>┃\n",
              "┡━━━━━━━━━━━━━━━━━━━━━━━━━━━╇━━━━━━━━━━━━━━━━━━━━━━━━╇━━━━━━━━━━━━━━━━╇━━━━━━━━━━━━━━━━━━━━━━━━┩\n",
              "│ user_input (<span style=\"color: #0087ff; text-decoration-color: #0087ff\">InputLayer</span>)   │ (<span style=\"color: #00d7ff; text-decoration-color: #00d7ff\">None</span>, <span style=\"color: #00af00; text-decoration-color: #00af00\">1</span>)              │              <span style=\"color: #00af00; text-decoration-color: #00af00\">0</span> │ -                      │\n",
              "├───────────────────────────┼────────────────────────┼────────────────┼────────────────────────┤\n",
              "│ anime_input (<span style=\"color: #0087ff; text-decoration-color: #0087ff\">InputLayer</span>)  │ (<span style=\"color: #00d7ff; text-decoration-color: #00d7ff\">None</span>, <span style=\"color: #00af00; text-decoration-color: #00af00\">1</span>)              │              <span style=\"color: #00af00; text-decoration-color: #00af00\">0</span> │ -                      │\n",
              "├───────────────────────────┼────────────────────────┼────────────────┼────────────────────────┤\n",
              "│ user_embedding            │ (<span style=\"color: #00d7ff; text-decoration-color: #00d7ff\">None</span>, <span style=\"color: #00af00; text-decoration-color: #00af00\">1</span>, <span style=\"color: #00af00; text-decoration-color: #00af00\">50</span>)          │      <span style=\"color: #00af00; text-decoration-color: #00af00\">1,306,500</span> │ user_input[<span style=\"color: #00af00; text-decoration-color: #00af00\">0</span>][<span style=\"color: #00af00; text-decoration-color: #00af00\">0</span>]       │\n",
              "│ (<span style=\"color: #0087ff; text-decoration-color: #0087ff\">Embedding</span>)               │                        │                │                        │\n",
              "├───────────────────────────┼────────────────────────┼────────────────┼────────────────────────┤\n",
              "│ anime_embedding           │ (<span style=\"color: #00d7ff; text-decoration-color: #00d7ff\">None</span>, <span style=\"color: #00af00; text-decoration-color: #00af00\">1</span>, <span style=\"color: #00af00; text-decoration-color: #00af00\">50</span>)          │        <span style=\"color: #00af00; text-decoration-color: #00af00\">455,400</span> │ anime_input[<span style=\"color: #00af00; text-decoration-color: #00af00\">0</span>][<span style=\"color: #00af00; text-decoration-color: #00af00\">0</span>]      │\n",
              "│ (<span style=\"color: #0087ff; text-decoration-color: #0087ff\">Embedding</span>)               │                        │                │                        │\n",
              "├───────────────────────────┼────────────────────────┼────────────────┼────────────────────────┤\n",
              "│ flatten (<span style=\"color: #0087ff; text-decoration-color: #0087ff\">Flatten</span>)         │ (<span style=\"color: #00d7ff; text-decoration-color: #00d7ff\">None</span>, <span style=\"color: #00af00; text-decoration-color: #00af00\">50</span>)             │              <span style=\"color: #00af00; text-decoration-color: #00af00\">0</span> │ user_embedding[<span style=\"color: #00af00; text-decoration-color: #00af00\">0</span>][<span style=\"color: #00af00; text-decoration-color: #00af00\">0</span>]   │\n",
              "├───────────────────────────┼────────────────────────┼────────────────┼────────────────────────┤\n",
              "│ flatten_1 (<span style=\"color: #0087ff; text-decoration-color: #0087ff\">Flatten</span>)       │ (<span style=\"color: #00d7ff; text-decoration-color: #00d7ff\">None</span>, <span style=\"color: #00af00; text-decoration-color: #00af00\">50</span>)             │              <span style=\"color: #00af00; text-decoration-color: #00af00\">0</span> │ anime_embedding[<span style=\"color: #00af00; text-decoration-color: #00af00\">0</span>][<span style=\"color: #00af00; text-decoration-color: #00af00\">0</span>]  │\n",
              "├───────────────────────────┼────────────────────────┼────────────────┼────────────────────────┤\n",
              "│ concatenate (<span style=\"color: #0087ff; text-decoration-color: #0087ff\">Concatenate</span>) │ (<span style=\"color: #00d7ff; text-decoration-color: #00d7ff\">None</span>, <span style=\"color: #00af00; text-decoration-color: #00af00\">100</span>)            │              <span style=\"color: #00af00; text-decoration-color: #00af00\">0</span> │ flatten[<span style=\"color: #00af00; text-decoration-color: #00af00\">0</span>][<span style=\"color: #00af00; text-decoration-color: #00af00\">0</span>],         │\n",
              "│                           │                        │                │ flatten_1[<span style=\"color: #00af00; text-decoration-color: #00af00\">0</span>][<span style=\"color: #00af00; text-decoration-color: #00af00\">0</span>]        │\n",
              "├───────────────────────────┼────────────────────────┼────────────────┼────────────────────────┤\n",
              "│ dense (<span style=\"color: #0087ff; text-decoration-color: #0087ff\">Dense</span>)             │ (<span style=\"color: #00d7ff; text-decoration-color: #00d7ff\">None</span>, <span style=\"color: #00af00; text-decoration-color: #00af00\">256</span>)            │         <span style=\"color: #00af00; text-decoration-color: #00af00\">25,856</span> │ concatenate[<span style=\"color: #00af00; text-decoration-color: #00af00\">0</span>][<span style=\"color: #00af00; text-decoration-color: #00af00\">0</span>]      │\n",
              "├───────────────────────────┼────────────────────────┼────────────────┼────────────────────────┤\n",
              "│ dropout (<span style=\"color: #0087ff; text-decoration-color: #0087ff\">Dropout</span>)         │ (<span style=\"color: #00d7ff; text-decoration-color: #00d7ff\">None</span>, <span style=\"color: #00af00; text-decoration-color: #00af00\">256</span>)            │              <span style=\"color: #00af00; text-decoration-color: #00af00\">0</span> │ dense[<span style=\"color: #00af00; text-decoration-color: #00af00\">0</span>][<span style=\"color: #00af00; text-decoration-color: #00af00\">0</span>]            │\n",
              "├───────────────────────────┼────────────────────────┼────────────────┼────────────────────────┤\n",
              "│ dense_1 (<span style=\"color: #0087ff; text-decoration-color: #0087ff\">Dense</span>)           │ (<span style=\"color: #00d7ff; text-decoration-color: #00d7ff\">None</span>, <span style=\"color: #00af00; text-decoration-color: #00af00\">128</span>)            │         <span style=\"color: #00af00; text-decoration-color: #00af00\">32,896</span> │ dropout[<span style=\"color: #00af00; text-decoration-color: #00af00\">0</span>][<span style=\"color: #00af00; text-decoration-color: #00af00\">0</span>]          │\n",
              "├───────────────────────────┼────────────────────────┼────────────────┼────────────────────────┤\n",
              "│ dropout_1 (<span style=\"color: #0087ff; text-decoration-color: #0087ff\">Dropout</span>)       │ (<span style=\"color: #00d7ff; text-decoration-color: #00d7ff\">None</span>, <span style=\"color: #00af00; text-decoration-color: #00af00\">128</span>)            │              <span style=\"color: #00af00; text-decoration-color: #00af00\">0</span> │ dense_1[<span style=\"color: #00af00; text-decoration-color: #00af00\">0</span>][<span style=\"color: #00af00; text-decoration-color: #00af00\">0</span>]          │\n",
              "├───────────────────────────┼────────────────────────┼────────────────┼────────────────────────┤\n",
              "│ dense_2 (<span style=\"color: #0087ff; text-decoration-color: #0087ff\">Dense</span>)           │ (<span style=\"color: #00d7ff; text-decoration-color: #00d7ff\">None</span>, <span style=\"color: #00af00; text-decoration-color: #00af00\">1</span>)              │            <span style=\"color: #00af00; text-decoration-color: #00af00\">129</span> │ dropout_1[<span style=\"color: #00af00; text-decoration-color: #00af00\">0</span>][<span style=\"color: #00af00; text-decoration-color: #00af00\">0</span>]        │\n",
              "└───────────────────────────┴────────────────────────┴────────────────┴────────────────────────┘\n",
              "</pre>\n"
            ]
          },
          "metadata": {}
        },
        {
          "output_type": "display_data",
          "data": {
            "text/plain": [
              "\u001b[1m Total params: \u001b[0m\u001b[38;5;34m1,820,781\u001b[0m (6.95 MB)\n"
            ],
            "text/html": [
              "<pre style=\"white-space:pre;overflow-x:auto;line-height:normal;font-family:Menlo,'DejaVu Sans Mono',consolas,'Courier New',monospace\"><span style=\"font-weight: bold\"> Total params: </span><span style=\"color: #00af00; text-decoration-color: #00af00\">1,820,781</span> (6.95 MB)\n",
              "</pre>\n"
            ]
          },
          "metadata": {}
        },
        {
          "output_type": "display_data",
          "data": {
            "text/plain": [
              "\u001b[1m Trainable params: \u001b[0m\u001b[38;5;34m1,820,781\u001b[0m (6.95 MB)\n"
            ],
            "text/html": [
              "<pre style=\"white-space:pre;overflow-x:auto;line-height:normal;font-family:Menlo,'DejaVu Sans Mono',consolas,'Courier New',monospace\"><span style=\"font-weight: bold\"> Trainable params: </span><span style=\"color: #00af00; text-decoration-color: #00af00\">1,820,781</span> (6.95 MB)\n",
              "</pre>\n"
            ]
          },
          "metadata": {}
        },
        {
          "output_type": "display_data",
          "data": {
            "text/plain": [
              "\u001b[1m Non-trainable params: \u001b[0m\u001b[38;5;34m0\u001b[0m (0.00 B)\n"
            ],
            "text/html": [
              "<pre style=\"white-space:pre;overflow-x:auto;line-height:normal;font-family:Menlo,'DejaVu Sans Mono',consolas,'Courier New',monospace\"><span style=\"font-weight: bold\"> Non-trainable params: </span><span style=\"color: #00af00; text-decoration-color: #00af00\">0</span> (0.00 B)\n",
              "</pre>\n"
            ]
          },
          "metadata": {}
        }
      ]
    },
    {
      "cell_type": "markdown",
      "source": [
        "## NCFRS Filtered Model"
      ],
      "metadata": {
        "id": "9NZ7LxYhZ7zn"
      }
    },
    {
      "cell_type": "markdown",
      "source": [
        "### Prepairing the data for the filtered NCFRS model"
      ],
      "metadata": {
        "id": "YwTJ8Dm-Z45w"
      }
    },
    {
      "cell_type": "code",
      "source": [
        "user_ids = combined_ratings_df['user_id'].unique()\n",
        "anime_ids = combined_ratings_df['anime_id'].unique()\n",
        "\n",
        "print(f'{user_ids.shape [0]} unique users')\n",
        "print(f'{anime_ids.shape [0]} unique animes')\n",
        "\n",
        "# Create mappings for user and anime IDs\n",
        "user_id_map = {id: index for index, id in enumerate(user_ids)}\n",
        "anime_id_map = {id: index for index, id in enumerate(anime_ids)}\n",
        "\n",
        "combined_ratings_df['user_id'] = combined_ratings_df['user_id'].map(user_id_map)\n",
        "combined_ratings_df['anime_id'] = combined_ratings_df['anime_id'].map(anime_id_map)\n",
        "\n",
        "# Displaying the first few rows to confirm the structure\n",
        "print(combined_ratings_df.head())\n",
        "print(combined_ratings_df.columns)\n",
        "print(combined_ratings_df.info())"
      ],
      "metadata": {
        "colab": {
          "base_uri": "https://localhost:8080/"
        },
        "id": "Gic_KBmcaIoW",
        "outputId": "9724993e-e451-44d2-b8ab-50374f2f2c35"
      },
      "execution_count": 34,
      "outputs": [
        {
          "output_type": "stream",
          "name": "stdout",
          "text": [
            "26130 unique users\n",
            "9108 unique animes\n",
            "      user_id  anime_id  rating\n",
            "1683        0         0       7\n",
            "1684        0         1      10\n",
            "1685        0         2       2\n",
            "1686        0         3       6\n",
            "1687        0         4       6\n",
            "Index(['user_id', 'anime_id', 'rating'], dtype='object')\n",
            "<class 'pandas.core.frame.DataFrame'>\n",
            "Index: 9946796 entries, 1683 to 5340837\n",
            "Data columns (total 3 columns):\n",
            " #   Column    Dtype\n",
            "---  ------    -----\n",
            " 0   user_id   int64\n",
            " 1   anime_id  int64\n",
            " 2   rating    int64\n",
            "dtypes: int64(3)\n",
            "memory usage: 303.6 MB\n",
            "None\n"
          ]
        }
      ]
    },
    {
      "cell_type": "code",
      "source": [
        "# Split data into training and test sets\n",
        "train_df_small, test_df_small = sklearn_train_test_split(combined_ratings_df, test_size=0.15, random_state=20)\n",
        "\n",
        "## Prepare input data\n",
        "# Filtered NCFRS training data\n",
        "train_user_ids_small = train_df_small['user_id'].values\n",
        "train_anime_ids_small = train_df_small['anime_id'].values\n",
        "train_ratings_small = train_df_small['rating'].values\n",
        "\n",
        "# Filtered NCFRS test data\n",
        "test_user_ids_small = test_df_small['user_id'].values\n",
        "test_anime_ids_small = test_df_small['anime_id'].values\n",
        "test_ratings_small = test_df_small['rating'].values"
      ],
      "metadata": {
        "id": "uN0ypdLwaKJO"
      },
      "execution_count": null,
      "outputs": []
    },
    {
      "cell_type": "markdown",
      "source": [
        "### Training and saving the filtered NCFRS model"
      ],
      "metadata": {
        "id": "gbruaMGDamRD"
      }
    },
    {
      "cell_type": "code",
      "source": [
        "# Train the filtered NCFRS model\n",
        "history = model.fit([train_user_ids_small, train_anime_ids_small], train_ratings_small, epochs=6, batch_size=128, validation_data=([test_user_ids_small, test_anime_ids_small], test_ratings_small))\n",
        "\n",
        "# Evaluate the filtered NCFRS model\n",
        "loss, mae = model.evaluate([test_user_ids_small, test_anime_ids_small], test_ratings_small)\n",
        "print(f\"Test MAE: {mae}\")"
      ],
      "metadata": {
        "id": "akk6JS1SaqU8"
      },
      "execution_count": null,
      "outputs": []
    },
    {
      "cell_type": "code",
      "source": [
        "# Save filtered NCFRS model\n",
        "#model.save('/content/drive/MyDrive/FYP/Models/ncfrs_model_combrat_650_2000.keras')"
      ],
      "metadata": {
        "id": "2yxvJ8hHbaOm"
      },
      "execution_count": null,
      "outputs": []
    },
    {
      "cell_type": "markdown",
      "source": [
        "## NCFRS Full Model"
      ],
      "metadata": {
        "id": "4I-miAOFb7un"
      }
    },
    {
      "cell_type": "markdown",
      "source": [
        "### Prepairing the data for the full NCFRS model"
      ],
      "metadata": {
        "id": "VuGIwBqIcEx2"
      }
    },
    {
      "cell_type": "code",
      "source": [
        "user_ids_full = ratings_df['user_id'].unique()\n",
        "anime_ids_full = ratings_df['anime_id'].unique()\n",
        "\n",
        "print(f'{user_ids_full.shape[0]} unique users')\n",
        "print(f'{anime_ids_full.shape[0]} unique animes')\n",
        "\n",
        "# Create mappings for user and anime IDs\n",
        "user_id_map_full = {id: index for index, id in enumerate(user_ids_full)}\n",
        "anime_id_map_full = {id: index for index, id in enumerate(anime_ids_full)}\n",
        "\n",
        "# Apply the mappings to the existing columns\n",
        "ratings_df['user_id'] = ratings_df['user_id'].map(user_id_map_full)\n",
        "ratings_df['anime_id'] = ratings_df['anime_id'].map(anime_id_map_full)"
      ],
      "metadata": {
        "colab": {
          "base_uri": "https://localhost:8080/"
        },
        "id": "HbWOEARocGZe",
        "outputId": "15844955-0eb2-4cf2-a794-d9aede1ca498"
      },
      "execution_count": 35,
      "outputs": [
        {
          "output_type": "stream",
          "name": "stdout",
          "text": [
            "310059 unique users\n",
            "16872 unique animes\n"
          ]
        }
      ]
    },
    {
      "cell_type": "code",
      "source": [
        "# Split data into training and test sets\n",
        "train_df, test_df = sklearn_train_test_split(ratings_df, test_size=0.15, random_state=20)\n",
        "\n",
        "## Prepare input data\n",
        "# Full NCFRS train data\n",
        "train_user_ids = train_df['user_id'].values\n",
        "train_anime_ids = train_df['anime_id'].values\n",
        "train_ratings = train_df['rating'].values\n",
        "\n",
        "# Full NCFRS test data\n",
        "test_user_ids = test_df['user_id'].values\n",
        "test_anime_ids = test_df['anime_id'].values\n",
        "test_ratings = test_df['rating'].values\n",
        "\n",
        "# Check the unique counts for embedding layers\n",
        "num_users = ratings_df['user_id'].nunique()\n",
        "num_animes = ratings_df['anime_id'].nunique()\n",
        "\n",
        "print(f'{num_users} unique users after mapping')\n",
        "print(f'{num_animes} unique animes after mapping')"
      ],
      "metadata": {
        "id": "9QprweGWcNOu"
      },
      "execution_count": null,
      "outputs": []
    },
    {
      "cell_type": "markdown",
      "source": [
        "### Training and saving the full NCFRS model"
      ],
      "metadata": {
        "id": "JhqOBnUhcmqo"
      }
    },
    {
      "cell_type": "code",
      "source": [
        "# Train the full NCFRS model\n",
        "history = model.fit([train_user_ids, train_anime_ids], train_ratings, epochs=6, batch_size=128, validation_data=([test_user_ids, test_anime_ids], test_ratings))\n",
        "\n",
        "# Evaluate the full NCFRS model\n",
        "loss, mae = model.evaluate([test_user_ids, test_anime_ids], test_ratings)\n",
        "print(f\"Test MAE: {mae}\")"
      ],
      "metadata": {
        "id": "q-ZJ0-EZcnzo"
      },
      "execution_count": null,
      "outputs": []
    },
    {
      "cell_type": "code",
      "source": [
        "# Save filtered full model\n",
        "#model.save('/content/drive/MyDrive/FYP/Models/full_model_combrat_650_2000.keras')"
      ],
      "metadata": {
        "id": "rmx48WnDeSyo"
      },
      "execution_count": null,
      "outputs": []
    },
    {
      "cell_type": "markdown",
      "source": [
        "## Load The Previously Saved Models to Generate"
      ],
      "metadata": {
        "id": "WAn51PRyebbp"
      }
    },
    {
      "cell_type": "code",
      "source": [
        "# Load NCFRS models\n",
        "model_ncfrs_650_2000 = load_model('/content/drive/MyDrive/FYP/Models/ncfrs_model_combrat_650_2000.keras')\n",
        "model_full = load_model('/content/drive/MyDrive/FYP/Models/ncfrs_full.keras')"
      ],
      "metadata": {
        "colab": {
          "base_uri": "https://localhost:8080/"
        },
        "id": "BuiNJb7Ue9Hn",
        "outputId": "db64a894-efb8-4e7c-da49-29ab483d8885"
      },
      "execution_count": 36,
      "outputs": [
        {
          "output_type": "stream",
          "name": "stderr",
          "text": [
            "/usr/local/lib/python3.10/dist-packages/keras/src/saving/saving_lib.py:576: UserWarning: Skipping variable loading for optimizer 'rmsprop', because it has 10 variables whereas the saved optimizer has 18 variables. \n",
            "  saveable.load_own_variables(weights_store.get(inner_path))\n"
          ]
        }
      ]
    },
    {
      "cell_type": "code",
      "source": [
        "model_full = load_model('/content/drive/MyDrive/FYP/Models/ncfrs_full.keras')"
      ],
      "metadata": {
        "id": "sST_GHgBffVa"
      },
      "execution_count": 147,
      "outputs": []
    },
    {
      "cell_type": "markdown",
      "source": [
        "## NCFRS Recommendation Generation"
      ],
      "metadata": {
        "id": "TVOdBl6nflfu"
      }
    },
    {
      "cell_type": "code",
      "source": [
        "# Generate rcommendations for NCFRS models. Input = liked anime, Output = recommendations, scores\n",
        "def get_recommendations_for_new_user_3(user_liked_anime_ids, model, anime_df, anime_id_map, anime_ids, n=10):\n",
        "    # Convert the anime IDs to the mapped IDs used in the model\n",
        "    mapped_anime_ids = [anime_id_map[anime_id] for anime_id in user_liked_anime_ids]\n",
        "\n",
        "    # Calculate average embedding for liked animes\n",
        "    liked_anime_embeddings = model.get_layer('anime_embedding').get_weights()[0][mapped_anime_ids]\n",
        "    avg_embedding = np.mean(liked_anime_embeddings, axis=0)\n",
        "\n",
        "    # Get all anime embeddings\n",
        "    all_anime_embeddings = model.get_layer('anime_embedding').get_weights()[0]\n",
        "\n",
        "    # Compute similarity between the average embedding and all anime embeddings\n",
        "    similarities = np.dot(all_anime_embeddings, avg_embedding)\n",
        "\n",
        "    # Create a DataFrame to store anime IDs and their similarity scores\n",
        "    similarity_df = pd.DataFrame({'anime_id': anime_ids, 'similarity': similarities})\n",
        "\n",
        "    # Filter out the liked animes from the recommendations\n",
        "    similarity_df = similarity_df[~similarity_df['anime_id'].isin(user_liked_anime_ids)]\n",
        "\n",
        "    # Sort by similarity score\n",
        "    top_n_similarities = similarity_df.nlargest(n, 'similarity')\n",
        "\n",
        "    # Get the top N animes with highest similarity\n",
        "    top_n_anime_ids = top_n_similarities['anime_id'].values\n",
        "    top_n_similarities = top_n_similarities['similarity'].values\n",
        "\n",
        "    # Return the anime details along with similarity scores\n",
        "    return anime_df[anime_df['MAL_ID'].isin(top_n_anime_ids)], top_n_similarities"
      ],
      "metadata": {
        "id": "KGsfG00kf87y"
      },
      "execution_count": 54,
      "outputs": []
    },
    {
      "cell_type": "code",
      "source": [
        "# Generte and predict filtered NCFRS model recommendations\n",
        "recommendations, scores = get_recommendations_for_new_user_3(anime_ids_example, model_ncfrs_650_2000, Untampered_anime_df, anime_id_map, anime_ids, n=15)\n",
        "for anime, score in zip(recommendations.itertuples(), scores):\n",
        "    print(f\"Anime: {anime.Name}, Similarity Score: {score}\")"
      ],
      "metadata": {
        "id": "4mJbG7GJgxwP",
        "colab": {
          "base_uri": "https://localhost:8080/"
        },
        "outputId": "e633409b-1363-4a26-c264-0a94c781bdab"
      },
      "execution_count": 55,
      "outputs": [
        {
          "output_type": "stream",
          "name": "stdout",
          "text": [
            "Anime: Monster, Similarity Score: 11.979045867919922\n",
            "Anime: Kenpuu Denki Berserk, Similarity Score: 11.617232322692871\n",
            "Anime: Slam Dunk, Similarity Score: 11.45383358001709\n",
            "Anime: Hajime no Ippo, Similarity Score: 11.44079303741455\n",
            "Anime: Yuu☆Yuu☆Hakusho, Similarity Score: 10.683730125427246\n",
            "Anime: Perfect Blue, Similarity Score: 10.216523170471191\n",
            "Anime: Mushishi, Similarity Score: 9.946259498596191\n",
            "Anime: Ginga Eiyuu Densetsu, Similarity Score: 9.497392654418945\n",
            "Anime: Death Note, Similarity Score: 9.417304992675781\n",
            "Anime: Ashita no Joe 2, Similarity Score: 9.409646034240723\n",
            "Anime: Gyakkyou Burai Kaiji: Ultimate Survivor, Similarity Score: 9.13046932220459\n",
            "Anime: Fullmetal Alchemist: Brotherhood, Similarity Score: 9.082025527954102\n",
            "Anime: Hunter x Hunter (2011), Similarity Score: 9.046972274780273\n",
            "Anime: Mushishi Zoku Shou 2nd Season, Similarity Score: 9.010746955871582\n",
            "Anime: Vinland Saga, Similarity Score: 8.986330032348633\n"
          ]
        }
      ]
    },
    {
      "cell_type": "code",
      "source": [
        "# Generte, predict, and display full NCFRS model recommendations\n",
        "recommendations_f, scores_f = get_recommendations_for_new_user_3(anime_ids_example, model_full, Untampered_anime_df, anime_id_map_full, anime_ids_full, n=15)\n",
        "for anime, score in zip(recommendations_f.itertuples(), scores_f):\n",
        "    print(f\"Anime: {anime.Name}, Similarity Score: {score},  Genres: {row.Genres}, Synopsis: {row.Synopsis}\")"
      ],
      "metadata": {
        "colab": {
          "base_uri": "https://localhost:8080/"
        },
        "id": "fBUPUdfDgHMn",
        "outputId": "83a40975-b003-43f6-ee80-3e09b2d367dd"
      },
      "execution_count": 57,
      "outputs": [
        {
          "output_type": "stream",
          "name": "stdout",
          "text": [
            "Anime: Monster, Similarity Score: 6.972129821777344,  Genres: Action, Adventure, Comedy, Supernatural, Shounen, Synopsis: Yato and Yukine have finally mended their relationship as god and Regalia, and everyone has returned to their daily life. Yato remains a minor and unknown deity who continues taking odd jobs for five yen apiece in the hopes of one day having millions of worshippers and his own grand shrine. Hiyori Iki has yet to have her loose soul fixed by Yato, but she enjoys life and prepares to attend high school nonetheless. Taking place immediately after the first season, Noragami Aragoto delves into the complicated past between Yato and the god of war Bishamon. The female god holds a mysterious grudge against Yato, which often results in violent clashes between them. It doesn't help that Bishamon's most trusted and beloved Regalia, Kazuma, appears to be indebted to Yato. When lives are on the line, unraveling these mysteries and others may be the only way to correct past mistakes.\n",
            "Anime: Kenpuu Denki Berserk, Similarity Score: 6.614386558532715,  Genres: Action, Adventure, Comedy, Supernatural, Shounen, Synopsis: Yato and Yukine have finally mended their relationship as god and Regalia, and everyone has returned to their daily life. Yato remains a minor and unknown deity who continues taking odd jobs for five yen apiece in the hopes of one day having millions of worshippers and his own grand shrine. Hiyori Iki has yet to have her loose soul fixed by Yato, but she enjoys life and prepares to attend high school nonetheless. Taking place immediately after the first season, Noragami Aragoto delves into the complicated past between Yato and the god of war Bishamon. The female god holds a mysterious grudge against Yato, which often results in violent clashes between them. It doesn't help that Bishamon's most trusted and beloved Regalia, Kazuma, appears to be indebted to Yato. When lives are on the line, unraveling these mysteries and others may be the only way to correct past mistakes.\n",
            "Anime: InuYasha, Similarity Score: 6.584317684173584,  Genres: Action, Adventure, Comedy, Supernatural, Shounen, Synopsis: Yato and Yukine have finally mended their relationship as god and Regalia, and everyone has returned to their daily life. Yato remains a minor and unknown deity who continues taking odd jobs for five yen apiece in the hopes of one day having millions of worshippers and his own grand shrine. Hiyori Iki has yet to have her loose soul fixed by Yato, but she enjoys life and prepares to attend high school nonetheless. Taking place immediately after the first season, Noragami Aragoto delves into the complicated past between Yato and the god of war Bishamon. The female god holds a mysterious grudge against Yato, which often results in violent clashes between them. It doesn't help that Bishamon's most trusted and beloved Regalia, Kazuma, appears to be indebted to Yato. When lives are on the line, unraveling these mysteries and others may be the only way to correct past mistakes.\n",
            "Anime: Versailles no Bara, Similarity Score: 6.304407596588135,  Genres: Action, Adventure, Comedy, Supernatural, Shounen, Synopsis: Yato and Yukine have finally mended their relationship as god and Regalia, and everyone has returned to their daily life. Yato remains a minor and unknown deity who continues taking odd jobs for five yen apiece in the hopes of one day having millions of worshippers and his own grand shrine. Hiyori Iki has yet to have her loose soul fixed by Yato, but she enjoys life and prepares to attend high school nonetheless. Taking place immediately after the first season, Noragami Aragoto delves into the complicated past between Yato and the god of war Bishamon. The female god holds a mysterious grudge against Yato, which often results in violent clashes between them. It doesn't help that Bishamon's most trusted and beloved Regalia, Kazuma, appears to be indebted to Yato. When lives are on the line, unraveling these mysteries and others may be the only way to correct past mistakes.\n",
            "Anime: Dragon Ball Z, Similarity Score: 6.098110675811768,  Genres: Action, Adventure, Comedy, Supernatural, Shounen, Synopsis: Yato and Yukine have finally mended their relationship as god and Regalia, and everyone has returned to their daily life. Yato remains a minor and unknown deity who continues taking odd jobs for five yen apiece in the hopes of one day having millions of worshippers and his own grand shrine. Hiyori Iki has yet to have her loose soul fixed by Yato, but she enjoys life and prepares to attend high school nonetheless. Taking place immediately after the first season, Noragami Aragoto delves into the complicated past between Yato and the god of war Bishamon. The female god holds a mysterious grudge against Yato, which often results in violent clashes between them. It doesn't help that Bishamon's most trusted and beloved Regalia, Kazuma, appears to be indebted to Yato. When lives are on the line, unraveling these mysteries and others may be the only way to correct past mistakes.\n",
            "Anime: Ginga Eiyuu Densetsu, Similarity Score: 5.991290092468262,  Genres: Action, Adventure, Comedy, Supernatural, Shounen, Synopsis: Yato and Yukine have finally mended their relationship as god and Regalia, and everyone has returned to their daily life. Yato remains a minor and unknown deity who continues taking odd jobs for five yen apiece in the hopes of one day having millions of worshippers and his own grand shrine. Hiyori Iki has yet to have her loose soul fixed by Yato, but she enjoys life and prepares to attend high school nonetheless. Taking place immediately after the first season, Noragami Aragoto delves into the complicated past between Yato and the god of war Bishamon. The female god holds a mysterious grudge against Yato, which often results in violent clashes between them. It doesn't help that Bishamon's most trusted and beloved Regalia, Kazuma, appears to be indebted to Yato. When lives are on the line, unraveling these mysteries and others may be the only way to correct past mistakes.\n",
            "Anime: Death Note, Similarity Score: 5.987654685974121,  Genres: Action, Adventure, Comedy, Supernatural, Shounen, Synopsis: Yato and Yukine have finally mended their relationship as god and Regalia, and everyone has returned to their daily life. Yato remains a minor and unknown deity who continues taking odd jobs for five yen apiece in the hopes of one day having millions of worshippers and his own grand shrine. Hiyori Iki has yet to have her loose soul fixed by Yato, but she enjoys life and prepares to attend high school nonetheless. Taking place immediately after the first season, Noragami Aragoto delves into the complicated past between Yato and the god of war Bishamon. The female god holds a mysterious grudge against Yato, which often results in violent clashes between them. It doesn't help that Bishamon's most trusted and beloved Regalia, Kazuma, appears to be indebted to Yato. When lives are on the line, unraveling these mysteries and others may be the only way to correct past mistakes.\n",
            "Anime: Naruto: Shippuuden, Similarity Score: 5.807858943939209,  Genres: Action, Adventure, Comedy, Supernatural, Shounen, Synopsis: Yato and Yukine have finally mended their relationship as god and Regalia, and everyone has returned to their daily life. Yato remains a minor and unknown deity who continues taking odd jobs for five yen apiece in the hopes of one day having millions of worshippers and his own grand shrine. Hiyori Iki has yet to have her loose soul fixed by Yato, but she enjoys life and prepares to attend high school nonetheless. Taking place immediately after the first season, Noragami Aragoto delves into the complicated past between Yato and the god of war Bishamon. The female god holds a mysterious grudge against Yato, which often results in violent clashes between them. It doesn't help that Bishamon's most trusted and beloved Regalia, Kazuma, appears to be indebted to Yato. When lives are on the line, unraveling these mysteries and others may be the only way to correct past mistakes.\n",
            "Anime: Ashita no Joe, Similarity Score: 5.698904037475586,  Genres: Action, Adventure, Comedy, Supernatural, Shounen, Synopsis: Yato and Yukine have finally mended their relationship as god and Regalia, and everyone has returned to their daily life. Yato remains a minor and unknown deity who continues taking odd jobs for five yen apiece in the hopes of one day having millions of worshippers and his own grand shrine. Hiyori Iki has yet to have her loose soul fixed by Yato, but she enjoys life and prepares to attend high school nonetheless. Taking place immediately after the first season, Noragami Aragoto delves into the complicated past between Yato and the god of war Bishamon. The female god holds a mysterious grudge against Yato, which often results in violent clashes between them. It doesn't help that Bishamon's most trusted and beloved Regalia, Kazuma, appears to be indebted to Yato. When lives are on the line, unraveling these mysteries and others may be the only way to correct past mistakes.\n",
            "Anime: Ashita no Joe 2, Similarity Score: 5.509801864624023,  Genres: Action, Adventure, Comedy, Supernatural, Shounen, Synopsis: Yato and Yukine have finally mended their relationship as god and Regalia, and everyone has returned to their daily life. Yato remains a minor and unknown deity who continues taking odd jobs for five yen apiece in the hopes of one day having millions of worshippers and his own grand shrine. Hiyori Iki has yet to have her loose soul fixed by Yato, but she enjoys life and prepares to attend high school nonetheless. Taking place immediately after the first season, Noragami Aragoto delves into the complicated past between Yato and the god of war Bishamon. The female god holds a mysterious grudge against Yato, which often results in violent clashes between them. It doesn't help that Bishamon's most trusted and beloved Regalia, Kazuma, appears to be indebted to Yato. When lives are on the line, unraveling these mysteries and others may be the only way to correct past mistakes.\n",
            "Anime: Gyakkyou Burai Kaiji: Ultimate Survivor, Similarity Score: 5.507530212402344,  Genres: Action, Adventure, Comedy, Supernatural, Shounen, Synopsis: Yato and Yukine have finally mended their relationship as god and Regalia, and everyone has returned to their daily life. Yato remains a minor and unknown deity who continues taking odd jobs for five yen apiece in the hopes of one day having millions of worshippers and his own grand shrine. Hiyori Iki has yet to have her loose soul fixed by Yato, but she enjoys life and prepares to attend high school nonetheless. Taking place immediately after the first season, Noragami Aragoto delves into the complicated past between Yato and the god of war Bishamon. The female god holds a mysterious grudge against Yato, which often results in violent clashes between them. It doesn't help that Bishamon's most trusted and beloved Regalia, Kazuma, appears to be indebted to Yato. When lives are on the line, unraveling these mysteries and others may be the only way to correct past mistakes.\n",
            "Anime: Fullmetal Alchemist: Brotherhood, Similarity Score: 5.41249418258667,  Genres: Action, Adventure, Comedy, Supernatural, Shounen, Synopsis: Yato and Yukine have finally mended their relationship as god and Regalia, and everyone has returned to their daily life. Yato remains a minor and unknown deity who continues taking odd jobs for five yen apiece in the hopes of one day having millions of worshippers and his own grand shrine. Hiyori Iki has yet to have her loose soul fixed by Yato, but she enjoys life and prepares to attend high school nonetheless. Taking place immediately after the first season, Noragami Aragoto delves into the complicated past between Yato and the god of war Bishamon. The female god holds a mysterious grudge against Yato, which often results in violent clashes between them. It doesn't help that Bishamon's most trusted and beloved Regalia, Kazuma, appears to be indebted to Yato. When lives are on the line, unraveling these mysteries and others may be the only way to correct past mistakes.\n",
            "Anime: Hunter x Hunter (2011), Similarity Score: 5.249688625335693,  Genres: Action, Adventure, Comedy, Supernatural, Shounen, Synopsis: Yato and Yukine have finally mended their relationship as god and Regalia, and everyone has returned to their daily life. Yato remains a minor and unknown deity who continues taking odd jobs for five yen apiece in the hopes of one day having millions of worshippers and his own grand shrine. Hiyori Iki has yet to have her loose soul fixed by Yato, but she enjoys life and prepares to attend high school nonetheless. Taking place immediately after the first season, Noragami Aragoto delves into the complicated past between Yato and the god of war Bishamon. The female god holds a mysterious grudge against Yato, which often results in violent clashes between them. It doesn't help that Bishamon's most trusted and beloved Regalia, Kazuma, appears to be indebted to Yato. When lives are on the line, unraveling these mysteries and others may be the only way to correct past mistakes.\n",
            "Anime: 3-gatsu no Lion 2nd Season, Similarity Score: 5.202489376068115,  Genres: Action, Adventure, Comedy, Supernatural, Shounen, Synopsis: Yato and Yukine have finally mended their relationship as god and Regalia, and everyone has returned to their daily life. Yato remains a minor and unknown deity who continues taking odd jobs for five yen apiece in the hopes of one day having millions of worshippers and his own grand shrine. Hiyori Iki has yet to have her loose soul fixed by Yato, but she enjoys life and prepares to attend high school nonetheless. Taking place immediately after the first season, Noragami Aragoto delves into the complicated past between Yato and the god of war Bishamon. The female god holds a mysterious grudge against Yato, which often results in violent clashes between them. It doesn't help that Bishamon's most trusted and beloved Regalia, Kazuma, appears to be indebted to Yato. When lives are on the line, unraveling these mysteries and others may be the only way to correct past mistakes.\n",
            "Anime: Shingeki no Kyojin Season 3 Part 2, Similarity Score: 5.018775463104248,  Genres: Action, Adventure, Comedy, Supernatural, Shounen, Synopsis: Yato and Yukine have finally mended their relationship as god and Regalia, and everyone has returned to their daily life. Yato remains a minor and unknown deity who continues taking odd jobs for five yen apiece in the hopes of one day having millions of worshippers and his own grand shrine. Hiyori Iki has yet to have her loose soul fixed by Yato, but she enjoys life and prepares to attend high school nonetheless. Taking place immediately after the first season, Noragami Aragoto delves into the complicated past between Yato and the god of war Bishamon. The female god holds a mysterious grudge against Yato, which often results in violent clashes between them. It doesn't help that Bishamon's most trusted and beloved Regalia, Kazuma, appears to be indebted to Yato. When lives are on the line, unraveling these mysteries and others may be the only way to correct past mistakes.\n"
          ]
        }
      ]
    },
    {
      "cell_type": "markdown",
      "source": [
        "The full model generally provides better recomendation compared to the filtered model which is why it will be utilized when deployed in the website as well as in the hybrid model"
      ],
      "metadata": {
        "id": "CCMVj0tHq69o"
      }
    },
    {
      "cell_type": "markdown",
      "source": [
        "# Hybrid Model (TF-IDF - Full NCFRS)"
      ],
      "metadata": {
        "id": "GB9YkeqWg-ZR"
      }
    },
    {
      "cell_type": "markdown",
      "source": [
        "This section demonstrates how to build a hybrid recommendation system that combines the best recommendations of both TF-IDF and Neural Collaborative Filtering (NCFRS) models. Its a more simplistic hybrid model as attempts at more complicated iterations proved too difficult.\n",
        "\n",
        "Future projects include adding a method for user to give feedback to the model in the form of postive and negative reinforcement."
      ],
      "metadata": {
        "id": "s6GaQXwUrO_1"
      }
    },
    {
      "cell_type": "markdown",
      "source": [
        "## Pre-Normalization"
      ],
      "metadata": {
        "id": "XrSG-YaXGBud"
      }
    },
    {
      "cell_type": "code",
      "source": [
        "def get_recommendations_ncfrs(user_liked_anime_ids, model, anime_df, anime_id_map, anime_ids, n=10):\n",
        "    # Convert the liked anime IDs to their corresponding mapped IDs used in the model\n",
        "    mapped_anime_ids = [anime_id_map[anime_id] for anime_id in user_liked_anime_ids]\n",
        "\n",
        "    # Calculate the average embedding for liked animes\n",
        "    liked_anime_embeddings = model.get_layer('anime_embedding').get_weights()[0][mapped_anime_ids]\n",
        "    avg_embedding = np.mean(liked_anime_embeddings, axis=0)\n",
        "\n",
        "    # Get all anime embeddings\n",
        "    all_anime_embeddings = model.get_layer('anime_embedding').get_weights()[0]\n",
        "\n",
        "    # Compute similarity between the average embedding and all anime embeddings\n",
        "    similarities = np.dot(all_anime_embeddings, avg_embedding)\n",
        "\n",
        "    # Get the top N most similar anime indices\n",
        "    top_n_anime_indices = similarities.argsort()[-n:][::-1]\n",
        "\n",
        "    # Filter out the liked animes from the recommendations\n",
        "    top_n_anime_indices = [index for index in top_n_anime_indices if index not in mapped_anime_ids][:n]\n",
        "\n",
        "    # Get the corresponding anime IDs for the top N recommendations\n",
        "    top_n_anime_ids = [anime_ids[index] for index in top_n_anime_indices]\n",
        "\n",
        "    return anime_df[anime_df['MAL_ID'].isin(top_n_anime_ids)], similarities[top_n_anime_indices][:len(top_n_anime_ids)]\n",
        "\n",
        "def get_recommendations_tfidf(user_liked_anime_ids, anime_df, tfidf_cosine_sim, n=10):\n",
        "    # Create a series with anime indices mapped by their MAL_IDs\n",
        "    indices = pd.Series(anime_df.index, index=anime_df['MAL_ID']).drop_duplicates()\n",
        "\n",
        "    # Calculate the average similarity scores for liked animes\n",
        "    sim_scores = tfidf_cosine_sim[indices[user_liked_anime_ids]].mean(axis=0)\n",
        "\n",
        "    # Get the top N most similar anime indices\n",
        "    top_n_anime_indices = sim_scores.argsort()[-n:][::-1]\n",
        "\n",
        "    # Filter out the liked animes from the recommendations\n",
        "    top_n_anime_indices = [index for index in top_n_anime_indices if index not in indices[user_liked_anime_ids]][:n]\n",
        "\n",
        "    return anime_df.iloc[top_n_anime_indices], sim_scores[top_n_anime_indices]"
      ],
      "metadata": {
        "id": "RG_hErCqhzsd"
      },
      "execution_count": 40,
      "outputs": []
    },
    {
      "cell_type": "code",
      "source": [
        "def hybrid_recommendations(user_liked_anime_ids, model, anime_df, Untampered_anime_df, anime_id_map, anime_ids, tfidf_cosine_sim, n=10):\n",
        "    # Get recommendations from the NCFRS model\n",
        "    recs_ncfrs, scores_ncfrs = get_recommendations_ncfrs(user_liked_anime_ids, model, anime_df, anime_id_map, anime_ids, n=10)\n",
        "\n",
        "    # Get recommendations from the TF-IDF model\n",
        "    recs_tfidf, scores_tfidf = get_recommendations_tfidf(user_liked_anime_ids, anime_df, tfidf_cosine_sim, n=10)\n",
        "\n",
        "    # Store the MAL_IDs of recommendations with scores and which model generated them(source)\n",
        "    recs_list = []\n",
        "    for i in range(10):\n",
        "        if i < len(recs_ncfrs):\n",
        "            recs_list.append((recs_ncfrs.iloc[i]['MAL_ID'], scores_ncfrs[i], 'NCFRS'))\n",
        "        if i < len(recs_tfidf):\n",
        "            recs_list.append((recs_tfidf.iloc[i]['MAL_ID'], scores_tfidf[i], 'TFIDF'))\n",
        "\n",
        "    # Drop duplicate MAL_IDs while keeping the highest score\n",
        "    recs_df = pd.DataFrame(recs_list, columns=['MAL_ID', 'Similarity_Score', 'Source'])\n",
        "    recs_df = recs_df.sort_values(by='Similarity_Score', ascending=False).drop_duplicates(subset='MAL_ID')\n",
        "\n",
        "    # Filter out the liked anime\n",
        "    recs_df = recs_df[~recs_df['MAL_ID'].isin(user_liked_anime_ids)]\n",
        "\n",
        "    # Select top recommendations from each source\n",
        "    top_recs_ncfrs = recs_df[recs_df['Source'] == 'NCFRS'].head(6)\n",
        "    top_recs_tfidf = recs_df[recs_df['Source'] == 'TFIDF'].head(4)\n",
        "\n",
        "    # Combine the top recommendations\n",
        "    final_recs_df = pd.concat([top_recs_ncfrs, top_recs_tfidf])\n",
        "\n",
        "    # Get the anime details\n",
        "    #final_recs = anime_df[anime_df['MAL_ID'].isin(final_recs_df['MAL_ID'])]\n",
        "    final_recs = Untampered_anime_df[Untampered_anime_df['MAL_ID'].isin(final_recs_df['MAL_ID'])]\n",
        "\n",
        "    # Merge with the final_recs_df to include scores and sources\n",
        "    final_recs = final_recs.merge(final_recs_df, on='MAL_ID')\n",
        "\n",
        "    #for row in final_recs.itertuples():\n",
        "    #    print(f\"Anime: {row.Name}, Anime Score: {row.Score}, Similarity Score: {row.Similarity_Score}, Source: {row.Source}\")\n",
        "\n",
        "    return final_recs"
      ],
      "metadata": {
        "id": "uj7MOPOah-Ip"
      },
      "execution_count": 49,
      "outputs": []
    },
    {
      "cell_type": "code",
      "source": [
        "# Generate hybrid recommendations\n",
        "hyb_rec = hybrid_recommendations(anime_ids_example, model_full, anime_df, Untampered_anime_df, anime_id_map_full, anime_ids_full, tfidf_cosine_sim, n=10)\n",
        "# Print the final recommendations with similarity scores and sources\n",
        "for row in hyb_rec.itertuples():\n",
        "    print(f\"Anime: {row.Name}, Anime Score: {row.Score}, Similarity Score: {row.Similarity_Score},  Genres: {row.Genres}, Synopsis: {row.Synopsis}\")\n",
        "#"
      ],
      "metadata": {
        "colab": {
          "base_uri": "https://localhost:8080/"
        },
        "id": "oCJu3tH2iJhW",
        "outputId": "e35fbc8e-381b-495e-8384-f475cd7b29bf"
      },
      "execution_count": 53,
      "outputs": [
        {
          "output_type": "stream",
          "name": "stdout",
          "text": [
            "Anime: Monster, Anime Score: 8.76, Similarity Score: 6.972129821777344,  Genres: Drama, Horror, Mystery, Police, Psychological, Seinen, Thriller, Synopsis: Dr. Kenzou Tenma, an elite neurosurgeon recently engaged to his hospital director's daughter, is well on his way to ascending the hospital hierarchy. That is until one night, a seemingly small event changes Dr. Tenma's life forever. While preparing to perform surgery on someone, he gets a call from the hospital director telling him to switch patients and instead perform life-saving brain surgery on a famous performer. His fellow doctors, fiancée, and the hospital director applaud his accomplishment; but because of the switch, a poor immigrant worker is dead, causing Dr. Tenma to have a crisis of conscience. So when a similar situation arises, Dr. Tenma stands his ground and chooses to perform surgery on the young boy Johan Liebert instead of the town's mayor. Unfortunately, this choice leads to serious ramifications for Dr. Tenma—losing his social standing being one of them. However, with the mysterious death of the director and two other doctors, Dr. Tenma's position is restored. With no evidence to convict him, he is released and goes on to attain the position of hospital director. Nine years later when Dr. Tenma saves the life of a criminal, his past comes back to haunt him—once again, he comes face to face with the monster he operated on. He must now embark on a quest of pursuit to make amends for the havoc spread by the one he saved.\n",
            "Anime: Kenpuu Denki Berserk, Anime Score: 8.49, Similarity Score: 6.614386558532715,  Genres: Action, Adventure, Demons, Drama, Fantasy, Horror, Military, Romance, Seinen, Supernatural, Synopsis: Born from the corpse of his mother, a young mercenary known only as Guts, embraces the battlefield as his only means of survival. Day in and day out, putting his life on the line just to make enough to get by, he moves from one bloodshed to the next. After a run-in with the Band of the Hawk, a formidable troop of mercenaries, Guts is recruited by their charismatic leader Griffith, nicknamed the \"White Hawk.\" As he quickly climbed the ranks in order to become the head of the offensive faction, Guts proves to be a mighty addition to Griffith's force, taking Midland by storm. However, while the band's quest for recognition continues, Guts slowly realizes that the world is not as black-and-white as he once assumed. Set in the medieval era, Kenpuu Denki Berserk is a dark, gritty tale that follows one man's struggle to find his own path, while supporting another's lust for power, and the unimaginable tragedy that begins to turn the wheels of fate.\n",
            "Anime: Shaman King, Anime Score: 7.78, Similarity Score: 0.9546980757538822,  Genres: Action, Adventure, Comedy, Super Power, Supernatural, Shounen, Synopsis: attle is about to begin in Tokyo: the Shaman Fight, a tournament held every five hundred years where shaman—those who can command spirits—confront each other in combat. The victor of this contest becomes the Shaman King and the only one who is able to contact and control the Great Spirit, allowing them to reshape the world as they please through its immense power. During a late night walk, Manta Oyamada runs into his classmate, the carefree You Asakura, who invites him to come stargazing with some friends, who, to Manta's horror, turn out to be ghosts from a local cemetery! However, the knowledge that Manta possesses—a rare sixth sense that allows Manta to see these spirits—endears the boy to You. So when You finds out that his new comrade has been beaten up by a local gang, he decides to avenge him with the help of Amidamaru, a samurai ghost whose tomb was broken by the gang leader. Soon Manta uncovers more about the world of spirits, including the Shaman Fight, in which his new friend You aims to claim victory.\n",
            "Anime: Rekka no Honoo, Anime Score: 7.36, Similarity Score: 0.9549828940476286,  Genres: Action, Adventure, Martial Arts, Shounen, Super Power, Synopsis: ost people think that ninjas are a thing of the past, but Rekka Hanabishi wishes otherwise. Although he comes from a family that makes fireworks, he likes to think of himself as a self-styled, modern-day ninja. Sounds like fun, right? Maybe not. Rekka ends up in lots of fights because he once made the bold announcement that if someone can defeat him, he will become their servant. Then one day, Rekka meets Yanagi Sakoshita, a gentle girl with the ability to heal any wound or injury. Their meeting sets off a chain of events, which culminate into a shocking discovery. Rekka is the last surviving member of a legendary ninja clan that was wiped out centuries ago. Even more astonishing than being an actual ninja, he also wields the power to control fire. What does this mean for Rekka? Who are these strange people after him and Yanagi? Find out in Rekka no Honoo !\n",
            "Anime: Versailles no Bara, Anime Score: 8.33, Similarity Score: 6.584317684173584,  Genres: Military, Historical, Drama, Romance, Shoujo, Synopsis: In 1755, Marie Antoinette is born in the royal family of Austria and raised in luxury. However, the fate of the future queen of France is set in stone—at the young age of 15, she has to leave her family and marry the crown prince of France. At the same time in France, a girl is born in the family of the Commander of the Royal Guards. Upset at not having a male heir, her father decides to raise her as a man and names the girl Oscar. Oscar is trained from a young age to become the leader of the Royal Guards, but she is yet to discern that the will of the queen sometimes does not equal the good of the people. Based on the critically acclaimed manga by Riyoko Ikeda, Rose of Versailles depicts the fateful meeting of Marie Antoinette and Oscar, which is bound to influence history and change the life of the people facing the French Revolution as the clock ticks toward the end of the French royalty.\n",
            "Anime: Ginga Eiyuu Densetsu, Anime Score: 9.07, Similarity Score: 6.304407596588135,  Genres: Military, Sci-Fi, Space, Drama, Synopsis: The 150-year-long stalemate between the two interstellar superpowers, the Galactic Empire and the Free Planets Alliance, comes to an end when a new generation of leaders arises: the idealistic military genius Reinhard von Lohengramm, and the FPA's reserved historian, Yang Wenli. While Reinhard climbs the ranks of the Empire with the aid of his childhood friend, Siegfried Kircheis, he must fight not only the war, but also the remnants of the crumbling Goldenbaum Dynasty in order to free his sister from the Kaiser and unify humanity under one genuine ruler. Meanwhile, on the other side of the galaxy, Yang—a strong supporter of democratic ideals—has to stand firm in his beliefs, despite the struggles of the FPA, and show his pupil, Julian Mintz, that autocracy is not the solution. As ideologies clash amidst the war's many casualties, the two strategic masterminds must ask themselves what the real reason behind their battle is.\n",
            "Anime: Naruto: Shippuuden, Anime Score: 8.16, Similarity Score: 6.098110675811768,  Genres: Action, Adventure, Comedy, Super Power, Martial Arts, Shounen, Synopsis: It has been two and a half years since Naruto Uzumaki left Konohagakure, the Hidden Leaf Village, for intense training following events which fueled his desire to be stronger. Now Akatsuki, the mysterious organization of elite rogue ninja, is closing in on their grand plan which may threaten the safety of the entire shinobi world. Although Naruto is older and sinister events loom on the horizon, he has changed little in personality—still rambunctious and childish—though he is now far more confident and possesses an even greater determination to protect his friends and home. Come whatever may, Naruto will carry on with the fight for what is important to him, even at the expense of his own body, in the continuation of the saga about the boy who wishes to become Hokage.\n",
            "Anime: Ashita no Joe 2, Anime Score: 8.67, Similarity Score: 5.991290092468262,  Genres: Action, Drama, Shounen, Slice of Life, Sports, Synopsis: Yabuki Joe is left downhearted and hopeless after a certain tragic event. In attempt to put the past behind him, Joe leaves the gym behind and begins wandering. On his travels he comes across the likes of Wolf Kanagushi and Goromaki Gondo, men who unintentionally fan the dying embers inside him, leading him to putting his wanderings to an end. His return home puts Joe back on the path to boxing, but unknown to himself and his trainer, he now suffers deep-set issues holding him back from fighting. In attempt to quell those issues, Carlos Rivera, a world renowned boxer is invited from Venezuela to help Joe recover.\n",
            "Anime: Moeru! Oniisan, Anime Score: 6.22, Similarity Score: 0.9539987848977881,  Genres: Action, Adventure, Comedy, Synopsis: hen Kenichi Kokuho was a small boy, he was lost in the mountains and never found. However, unknown to anyone, Kenichi has been brought up by his foster father in the wild. When Kenichi becomes 15 years old, his foster father tells him the truth about his background. As he finds out, Kenichi decides to go to a civilized society where his parents live. Everything Kenichi experiences in the town is a series of surprise and wonder. His family is delighted to see their son alive, but shocked at the fact that he has become wild and different from other children. And now, his new life is about to begin. His wild attitude and physical toughness cause various problems in the town. Kenichi has his own way to handle things, but it is too different for the most people to understand what he is up to. Can he get used to life in the town?\n",
            "Anime: Noragami Aragoto, Anime Score: 8.22, Similarity Score: 0.9541050974156637,  Genres: Action, Adventure, Comedy, Supernatural, Shounen, Synopsis: Yato and Yukine have finally mended their relationship as god and Regalia, and everyone has returned to their daily life. Yato remains a minor and unknown deity who continues taking odd jobs for five yen apiece in the hopes of one day having millions of worshippers and his own grand shrine. Hiyori Iki has yet to have her loose soul fixed by Yato, but she enjoys life and prepares to attend high school nonetheless. Taking place immediately after the first season, Noragami Aragoto delves into the complicated past between Yato and the god of war Bishamon. The female god holds a mysterious grudge against Yato, which often results in violent clashes between them. It doesn't help that Bishamon's most trusted and beloved Regalia, Kazuma, appears to be indebted to Yato. When lives are on the line, unraveling these mysteries and others may be the only way to correct past mistakes.\n"
          ]
        }
      ]
    },
    {
      "cell_type": "markdown",
      "source": [
        "## Post-Normalization"
      ],
      "metadata": {
        "id": "CqhZfUG9GFvO"
      }
    },
    {
      "cell_type": "code",
      "source": [
        "from sklearn.preprocessing import MinMaxScaler\n",
        "\n",
        "def normalize_scores(scores):\n",
        "    scaler = MinMaxScaler()\n",
        "    scores = np.array(scores).reshape(-1, 1)\n",
        "    normalized_scores = scaler.fit_transform(scores)\n",
        "    return normalized_scores.flatten()"
      ],
      "metadata": {
        "id": "nHDa9W_MDUYv"
      },
      "execution_count": 58,
      "outputs": []
    },
    {
      "cell_type": "code",
      "source": [
        "def get_recommendations_ncfrs(user_liked_anime_ids, model, anime_df, anime_id_map, anime_ids, n=10):\n",
        "    mapped_anime_ids = [anime_id_map[anime_id] for anime_id in user_liked_anime_ids]\n",
        "    liked_anime_embeddings = model.get_layer('anime_embedding').get_weights()[0][mapped_anime_ids]\n",
        "    avg_embedding = np.mean(liked_anime_embeddings, axis=0)\n",
        "    all_anime_embeddings = model.get_layer('anime_embedding').get_weights()[0]\n",
        "    similarities = np.dot(all_anime_embeddings, avg_embedding)\n",
        "    similarity_df = pd.DataFrame({'anime_id': anime_ids, 'similarity': similarities})\n",
        "    similarity_df = similarity_df[~similarity_df['anime_id'].isin(user_liked_anime_ids)]\n",
        "    top_n_similarities = similarity_df.nlargest(n, 'similarity')\n",
        "    top_n_anime_ids = top_n_similarities['anime_id'].values\n",
        "    top_n_similarities = normalize_scores(top_n_similarities['similarity'].values)\n",
        "    recommendations = anime_df[anime_df['MAL_ID'].isin(top_n_anime_ids)].copy()\n",
        "    recommendations['Similarity_Score'] = top_n_similarities\n",
        "    recommendations['Source'] = 'NCFRS'\n",
        "    return recommendations[['MAL_ID', 'Name', 'Similarity_Score', 'Source', 'Score','Genres', 'Synopsis']].to_dict(orient='records')\n",
        "\n",
        "def get_recommendations_content_based(user_liked_anime_ids, anime_df, tfidf_cosine_sim, n=10):\n",
        "    indices = pd.Series(anime_df.index, index=anime_df['MAL_ID']).drop_duplicates()\n",
        "    sim_scores = tfidf_cosine_sim[indices[user_liked_anime_ids]].mean(axis=0)\n",
        "\n",
        "    # Sort the sim scores in descending order\n",
        "    sorted_sim_scores = sorted(enumerate(sim_scores), key=lambda x: x[1], reverse=True)\n",
        "\n",
        "    # Filter out input anime and select top n\n",
        "    filtered_sim_scores = [(idx, score) for idx, score in sorted_sim_scores if anime_df.iloc[idx]['MAL_ID'] not in user_liked_anime_ids]\n",
        "\n",
        "    top_n_sim_scores = filtered_sim_scores[:n]\n",
        "    top_n_anime_indices = [idx for idx, _ in top_n_sim_scores]\n",
        "    top_n_similarities = [score for _, score in top_n_sim_scores]\n",
        "\n",
        "    # Normalize the similarity scores\n",
        "    top_n_similarities = normalize_scores(top_n_similarities)\n",
        "\n",
        "    recommendations = anime_df.iloc[top_n_anime_indices].copy()\n",
        "    recommendations['Similarity_Score'] = top_n_similarities\n",
        "    recommendations['Source'] = 'TFIDF'\n",
        "    return recommendations[['MAL_ID', 'Name', 'Similarity_Score', 'Source', 'Score','Genres', 'Synopsis']].to_dict(orient='records')"
      ],
      "metadata": {
        "id": "qIi-7WryDPWD"
      },
      "execution_count": 120,
      "outputs": []
    },
    {
      "cell_type": "code",
      "source": [
        "def hybrid_recommendations(user_liked_anime_ids, model, anime_df, anime_id_map, anime_ids, tfidf_cosine_sim, count_cosine_sim, n=10):\n",
        "    recs_ncfrs = get_recommendations_ncfrs(user_liked_anime_ids, model, anime_df, anime_id_map, anime_ids, n=n)\n",
        "    recs_tfidf = get_recommendations_content_based(user_liked_anime_ids, anime_df, tfidf_cosine_sim, n=n)\n",
        "    #recs_count = get_recommendations_content_based(user_liked_anime_ids, anime_df, count_cosine_sim, n=n)\n",
        "\n",
        "    combined_recs = recs_ncfrs + recs_tfidf\n",
        "    unique_recs = {v['MAL_ID']: v for v in combined_recs}.values()\n",
        "\n",
        "    sorted_unique_recs = sorted(unique_recs, key=lambda x: x['Similarity_Score'], reverse=True)[:n]\n",
        "\n",
        "    return sorted_unique_recs"
      ],
      "metadata": {
        "id": "HV7TKfJzDWxG"
      },
      "execution_count": 121,
      "outputs": []
    },
    {
      "cell_type": "code",
      "source": [
        "anime_ids_example = [1, 20, 269]"
      ],
      "metadata": {
        "id": "M_ygamndEdMd"
      },
      "execution_count": 68,
      "outputs": []
    },
    {
      "cell_type": "code",
      "source": [
        "# Generate hybrid recommendations\n",
        "hyb_rec = hybrid_recommendations(anime_ids_example, model_full, Untampered_anime_df, anime_id_map_full, anime_ids_full, tfidf_cosine_sim, count_cosine_sim, n=10)\n",
        "# Print the final recommendations with similarity scores and sources\n",
        "print(hyb_rec)"
      ],
      "metadata": {
        "colab": {
          "base_uri": "https://localhost:8080/"
        },
        "id": "96UgyH_pDbYW",
        "outputId": "3bddaf58-909c-482f-8363-79af3c5e1b2e"
      },
      "execution_count": 94,
      "outputs": [
        {
          "output_type": "stream",
          "name": "stdout",
          "text": [
            "[{'MAL_ID': 19, 'Name': 'Monster', 'Similarity_Score': 1.0, 'Source': 'NCFRS', 'Score': '8.76', 'Genres': 'Drama, Horror, Mystery, Police, Psychological, Seinen, Thriller', 'Synopsis': \"Dr. Kenzou Tenma, an elite neurosurgeon recently engaged to his hospital director's daughter, is well on his way to ascending the hospital hierarchy. That is until one night, a seemingly small event changes Dr. Tenma's life forever. While preparing to perform surgery on someone, he gets a call from the hospital director telling him to switch patients and instead perform life-saving brain surgery on a famous performer. His fellow doctors, fiancée, and the hospital director applaud his accomplishment; but because of the switch, a poor immigrant worker is dead, causing Dr. Tenma to have a crisis of conscience. So when a similar situation arises, Dr. Tenma stands his ground and chooses to perform surgery on the young boy Johan Liebert instead of the town's mayor. Unfortunately, this choice leads to serious ramifications for Dr. Tenma—losing his social standing being one of them. However, with the mysterious death of the director and two other doctors, Dr. Tenma's position is restored. With no evidence to convict him, he is released and goes on to attain the position of hospital director. Nine years later when Dr. Tenma saves the life of a criminal, his past comes back to haunt him—once again, he comes face to face with the monster he operated on. He must now embark on a quest of pursuit to make amends for the havoc spread by the one he saved.\"}, {'MAL_ID': 1735, 'Name': 'Naruto: Shippuuden', 'Similarity_Score': 1.0, 'Source': 'TFIDF'}, {'MAL_ID': 33, 'Name': 'Kenpuu Denki Berserk', 'Similarity_Score': 0.7553606033325195, 'Source': 'NCFRS', 'Score': '8.49', 'Genres': 'Action, Adventure, Demons, Drama, Fantasy, Horror, Military, Romance, Seinen, Supernatural', 'Synopsis': 'Born from the corpse of his mother, a young mercenary known only as Guts, embraces the battlefield as his only means of survival. Day in and day out, putting his life on the line just to make enough to get by, he moves from one bloodshed to the next. After a run-in with the Band of the Hawk, a formidable troop of mercenaries, Guts is recruited by their charismatic leader Griffith, nicknamed the \"White Hawk.\" As he quickly climbed the ranks in order to become the head of the offensive faction, Guts proves to be a mighty addition to Griffith\\'s force, taking Midland by storm. However, while the band\\'s quest for recognition continues, Guts slowly realizes that the world is not as black-and-white as he once assumed. Set in the medieval era, Kenpuu Denki Berserk is a dark, gritty tale that follows one man\\'s struggle to find his own path, while supporting another\\'s lust for power, and the unimaginable tragedy that begins to turn the wheels of fate.'}, {'MAL_ID': 338, 'Name': 'Versailles no Bara', 'Similarity_Score': 0.7347979545593262, 'Source': 'NCFRS', 'Score': '8.33', 'Genres': 'Military, Historical, Drama, Romance, Shoujo', 'Synopsis': 'In 1755, Marie Antoinette is born in the royal family of Austria and raised in luxury. However, the fate of the future queen of France is set in stone—at the young age of 15, she has to leave her family and marry the crown prince of France. At the same time in France, a girl is born in the family of the Commander of the Royal Guards. Upset at not having a male heir, her father decides to raise her as a man and names the girl Oscar. Oscar is trained from a young age to become the leader of the Royal Guards, but she is yet to discern that the will of the queen sometimes does not equal the good of the people. Based on the critically acclaimed manga by Riyoko Ikeda, Rose of Versailles depicts the fateful meeting of Marie Antoinette and Oscar, which is bound to influence history and change the life of the people facing the French Revolution as the clock ticks toward the end of the French royalty.'}, {'MAL_ID': 820, 'Name': 'Ginga Eiyuu Densetsu', 'Similarity_Score': 0.5433840751647949, 'Source': 'NCFRS', 'Score': '9.07', 'Genres': 'Military, Sci-Fi, Space, Drama', 'Synopsis': \"The 150-year-long stalemate between the two interstellar superpowers, the Galactic Empire and the Free Planets Alliance, comes to an end when a new generation of leaders arises: the idealistic military genius Reinhard von Lohengramm, and the FPA's reserved historian, Yang Wenli. While Reinhard climbs the ranks of the Empire with the aid of his childhood friend, Siegfried Kircheis, he must fight not only the war, but also the remnants of the crumbling Goldenbaum Dynasty in order to free his sister from the Kaiser and unify humanity under one genuine ruler. Meanwhile, on the other side of the galaxy, Yang—a strong supporter of democratic ideals—has to stand firm in his beliefs, despite the struggles of the FPA, and show his pupil, Julian Mintz, that autocracy is not the solution. As ideologies clash amidst the war's many casualties, the two strategic masterminds must ask themselves what the real reason behind their battle is.\"}, {'MAL_ID': 1535, 'Name': 'Death Note', 'Similarity_Score': 0.4023098945617676, 'Source': 'NCFRS', 'Score': '8.63', 'Genres': 'Mystery, Police, Psychological, Supernatural, Thriller, Shounen', 'Synopsis': \"shinigami, as a god of death, can kill any person—provided they see their victim's face and write their victim's name in a notebook called a Death Note. One day, Ryuk, bored by the shinigami lifestyle and interested in seeing how a human would use a Death Note, drops one into the human realm. High school student and prodigy Light Yagami stumbles upon the Death Note and—since he deplores the state of the world—tests the deadly notebook by writing a criminal's name in it. When the criminal dies immediately following his experiment with the Death Note, Light is greatly surprised and quickly recognizes how devastating the power that has fallen into his hands could be. With this divine capability, Light decides to extinguish all criminals in order to build a new world where crime does not exist and people worship him as a god. Police, however, quickly discover that a serial killer is targeting criminals and, consequently, try to apprehend the culprit. To do this, the Japanese investigators count on the assistance of the best detective in the world: a young and eccentric man known only by the name of L.\"}, {'MAL_ID': 2402, 'Name': 'Ashita no Joe', 'Similarity_Score': 0.32677555084228516, 'Source': 'NCFRS', 'Score': '8.28', 'Genres': 'Action, Drama, Shounen, Slice of Life, Sports', 'Synopsis': \"Joe Yabuki is a troubled youth, whose only solution to problems is throwing punches at them. What he lacks in manners and discipline, he makes up for with his self-taught fighting skills. One day, while wandering the slums of Doya, Joe gets into a fight with the local gang. Although greatly outnumbered, he effortlessly defeats them, drawing the attention of Danpei Tange—a former boxing coach turned alcoholic. Seeing his potential, he offers to train Joe into Japan's greatest boxer. At first, Joe dismisses Danpei as a hopeless drunk; but after the trainer saves his life, he agrees to live with him and learn the art of boxing. Unfortunately, Joe's personality makes him an unruly student, and he often falls back to his old ways. To survive the harsh world of his new career, Joe needs to trust his mentor and master the techniques taught to him. However, the road to becoming a professional boxer is rife with struggles that will test his mettle to the end.\"}, {'MAL_ID': 238, 'Name': 'Rekka no Honoo', 'Similarity_Score': 0.21567323387868953, 'Source': 'TFIDF'}, {'MAL_ID': 2921, 'Name': 'Ashita no Joe 2', 'Similarity_Score': 0.20382380485534668, 'Source': 'NCFRS', 'Score': '8.67', 'Genres': 'Action, Drama, Shounen, Slice of Life, Sports', 'Synopsis': 'Yabuki Joe is left downhearted and hopeless after a certain tragic event. In attempt to put the past behind him, Joe leaves the gym behind and begins wandering. On his travels he comes across the likes of Wolf Kanagushi and Goromaki Gondo, men who unintentionally fan the dying embers inside him, leading him to putting his wanderings to an end. His return home puts Joe back on the path to boxing, but unknown to himself and his trainer, he now suffers deep-set issues holding him back from fighting. In attempt to quell those issues, Carlos Rivera, a world renowned boxer is invited from Venezuela to help Joe recover.'}, {'MAL_ID': 154, 'Name': 'Shaman King', 'Similarity_Score': 0.19741901979357834, 'Source': 'TFIDF'}]\n"
          ]
        }
      ]
    },
    {
      "cell_type": "markdown",
      "source": [
        "# Flask Web App"
      ],
      "metadata": {
        "id": "R2bR6cYTjarM"
      }
    },
    {
      "cell_type": "code",
      "source": [
        "from flask import Flask, render_template, request, redirect, url_for, make_response\n",
        "from pyngrok import ngrok\n",
        "\n",
        "ngrok.set_auth_token(\"2ih00gBM5g5arG3gGlWGBGlZ3UL_6txwfZRz46vz6WNFTJDvN\")\n",
        "\n",
        "app = Flask(__name__, template_folder='/content/drive/MyDrive/FYP/Web/dependancy/templates', static_folder='/content/drive/MyDrive/FYP/Web/dependancy/static')"
      ],
      "metadata": {
        "id": "FpAHC7i5k30V"
      },
      "execution_count": 157,
      "outputs": []
    },
    {
      "cell_type": "code",
      "source": [
        "TEMPLATE = \"\"\"<header>\n",
        "    <h3>{}</h3>\n",
        "\t<p>Genres: {} | MyAnimeList.net Rating: {} | Similarity Score: {}</p>\n",
        "</header>\n",
        "<p>{}</p>\n",
        "\"\"\"\n",
        "\n",
        "class Anime:\n",
        "    def __init__(self, model_dict: dict):\n",
        "        self.name = str(model_dict.pop('Name', 'Name Unknown')).strip().title()\n",
        "        self.score = str(model_dict.pop('Similarity_Score', 'Unknown')).strip()\n",
        "        self.rating = str(model_dict.pop('Score', 'Unknown')).strip()\n",
        "        self.synopsis = str(model_dict.pop('Synopsis', 'Synopsis Unknown')).strip()\n",
        "        self.genres = str(model_dict.pop('Genres', 'Unknown')).strip()\n",
        "\n",
        "        if self.name == '': self.name = 'Name Unknown'\n",
        "        if self.score == '': self.score = 'Unknown'\n",
        "        if self.rating == '': self.rating = 'Unknown'\n",
        "        if self.synopsis == '': self.synopsis = 'Synopsis Unknown'\n",
        "        if self.genres == '': self.genres = 'Unknown'\n",
        "\n",
        "    def to_str(self):\n",
        "        return TEMPLATE.format(self.name, self.genres, self.rating, self.score, self.synopsis)\n",
        "\n",
        "    @staticmethod\n",
        "    def get_list(model_output):\n",
        "        anime_list = []\n",
        "        for model_dict in model_output:\n",
        "            anime_list.append(Anime(model_dict))\n",
        "        return anime_list\n",
        "\n",
        "def display_results(model_output):\n",
        "    output = \"\"\n",
        "\n",
        "    for anime in Anime.get_list(model_output):\n",
        "        output += anime.to_str()\n",
        "\n",
        "    return output\n",
        ""
      ],
      "metadata": {
        "id": "xWw-Lxd7khdc"
      },
      "execution_count": 158,
      "outputs": []
    },
    {
      "cell_type": "code",
      "source": [
        "\n",
        "@app.route('/')\n",
        "def index():\n",
        "    age_verified = request.cookies.get('age_verified')\n",
        "    if age_verified is None:\n",
        "        return redirect(url_for('verify_age'))\n",
        "    if age_verified != 'true': # only people who set cookie to true (above 18) can use site\n",
        "        return render_template('ineligible.html'), 200\n",
        "    return render_template('index.html'), 200\n",
        "\n",
        "@app.route('/verify_age', methods=['GET', 'POST'])\n",
        "def verify_age():\n",
        "    age_verified = request.cookies.get('age_verified')\n",
        "    if age_verified is not None:\n",
        "        return render_template('error.html', error_message='You already verified your age.'), 400\n",
        "    method = request.method\n",
        "    if method == 'GET':\n",
        "        return render_template(\"popup.html\")\n",
        "    elif method == 'POST':\n",
        "        above_eighteen = request.form.get('above_eighteen')\n",
        "        if above_eighteen is None:\n",
        "            return render_template('error.html', error_message='Error processing your request, try again later.'), 400\n",
        "        response = make_response(redirect(url_for('index')))\n",
        "        response.set_cookie(\n",
        "            'age_verified',\n",
        "            ('true' if above_eighteen == 'yes' else 'false'),\n",
        "            max_age=60*60*24*365,\n",
        "            samesite='Strict',\n",
        "            httponly=True\n",
        "        )\n",
        "        return response\n",
        "    return render_template('error.html', error_message='Error processing your request, try again later.'), 400\n",
        "\n",
        "@app.route('/results', methods=['POST'])\n",
        "def results():\n",
        "\n",
        "    model = request.form.get('model-choice')\n",
        "    animes = []\n",
        "    for i in range(1,6):\n",
        "        anime_name = request.form.get(f'anime-{i}')\n",
        "        if anime_name is not None and anime_name != '':\n",
        "          #animes.append(int(anime_name))\n",
        "            anime_id = Untampered_anime_df[Untampered_anime_df['Name'] == anime_name]['MAL_ID'].iloc[0]\n",
        "            #print(anime_id, type(anime_id))\n",
        "            animes.append(anime_id)\n",
        "        #if anime is not None: animes.append(anime)\n",
        "\n",
        "    if model is None or len(animes) == 0:\n",
        "        return render_template('error.html', error_message='Error processing your request, try again later.'), 400\n",
        "\n",
        "    if model == 'A':\n",
        "        model_output = get_recommendations_content_based(animes, Untampered_anime_df, tfidf_cosine_sim, n=10)\n",
        "    elif model == 'B':\n",
        "        model_output = get_recommendations_ncfrs(animes, model_full, Untampered_anime_df, anime_id_map_full, anime_ids_full, n=10)\n",
        "    elif model == 'C':\n",
        "        model_output = hybrid_recommendations(animes, model_full, Untampered_anime_df, anime_id_map_full, anime_ids_full, tfidf_cosine_sim, count_cosine_sim, n=10)\n",
        "    else:\n",
        "        return render_template('error.html', error_message='Invalid model choice.'), 400\n",
        "\n",
        "    return render_template('results.html', model=f'Model {model}', results=display_results(model_output))\n",
        "\n",
        "\n",
        "if __name__ == '__main__':\n",
        "    url = ngrok.connect(5000)\n",
        "    print(f\" * ngrok tunnel \\\"{url}\\\" -> \\\"http://127.0.0.1:5000\\\"\")\n",
        "    app.run(port=5000)\n"
      ],
      "metadata": {
        "colab": {
          "base_uri": "https://localhost:8080/"
        },
        "id": "toeIdQ70jese",
        "outputId": "045daaea-7c42-450d-b842-9c222abc3ef3"
      },
      "execution_count": 159,
      "outputs": [
        {
          "output_type": "stream",
          "name": "stdout",
          "text": [
            " * ngrok tunnel \"NgrokTunnel: \"https://c3e7-34-135-48-97.ngrok-free.app\" -> \"http://localhost:5000\"\" -> \"http://127.0.0.1:5000\"\n",
            " * Serving Flask app '__main__'\n",
            " * Debug mode: off\n"
          ]
        },
        {
          "output_type": "stream",
          "name": "stderr",
          "text": [
            "INFO:werkzeug:\u001b[31m\u001b[1mWARNING: This is a development server. Do not use it in a production deployment. Use a production WSGI server instead.\u001b[0m\n",
            " * Running on http://127.0.0.1:5000\n",
            "INFO:werkzeug:\u001b[33mPress CTRL+C to quit\u001b[0m\n",
            "INFO:werkzeug:127.0.0.1 - - [10/Jul/2024 22:27:39] \"\u001b[32mGET / HTTP/1.1\u001b[0m\" 302 -\n",
            "INFO:werkzeug:127.0.0.1 - - [10/Jul/2024 22:27:40] \"GET /verify_age HTTP/1.1\" 200 -\n",
            "INFO:werkzeug:127.0.0.1 - - [10/Jul/2024 22:27:40] \"GET /static/assets/js/jquery.scrollex.min.js HTTP/1.1\" 200 -\n",
            "INFO:werkzeug:127.0.0.1 - - [10/Jul/2024 22:27:40] \"GET /static/assets/js/util.js HTTP/1.1\" 200 -\n",
            "INFO:werkzeug:127.0.0.1 - - [10/Jul/2024 22:27:40] \"GET /static/assets/js/jquery.scrolly.min.js HTTP/1.1\" 200 -\n",
            "INFO:werkzeug:127.0.0.1 - - [10/Jul/2024 22:27:40] \"GET /static/assets/js/jquery.min.js HTTP/1.1\" 200 -\n",
            "INFO:werkzeug:127.0.0.1 - - [10/Jul/2024 22:27:40] \"GET /static/assets/css/main.css HTTP/1.1\" 200 -\n",
            "INFO:werkzeug:127.0.0.1 - - [10/Jul/2024 22:27:40] \"GET /static/assets/js/browser.min.js HTTP/1.1\" 200 -\n",
            "INFO:werkzeug:127.0.0.1 - - [10/Jul/2024 22:27:40] \"GET /static/assets/js/main.js HTTP/1.1\" 200 -\n",
            "INFO:werkzeug:127.0.0.1 - - [10/Jul/2024 22:27:40] \"GET /static/assets/js/breakpoints.min.js HTTP/1.1\" 200 -\n",
            "INFO:werkzeug:127.0.0.1 - - [10/Jul/2024 22:27:41] \"GET /static/assets/css/fontawesome-all.min.css HTTP/1.1\" 200 -\n",
            "INFO:werkzeug:127.0.0.1 - - [10/Jul/2024 22:27:41] \"\u001b[33mGET /static/images/overlay.png HTTP/1.1\u001b[0m\" 404 -\n",
            "INFO:werkzeug:127.0.0.1 - - [10/Jul/2024 22:27:41] \"GET /static/images/bg.jpg HTTP/1.1\" 200 -\n",
            "INFO:werkzeug:127.0.0.1 - - [10/Jul/2024 22:27:42] \"\u001b[33mGET /favicon.ico HTTP/1.1\u001b[0m\" 404 -\n",
            "INFO:werkzeug:127.0.0.1 - - [10/Jul/2024 22:27:42] \"\u001b[32mPOST /verify_age HTTP/1.1\u001b[0m\" 302 -\n",
            "INFO:werkzeug:127.0.0.1 - - [10/Jul/2024 22:27:42] \"GET / HTTP/1.1\" 200 -\n",
            "INFO:werkzeug:127.0.0.1 - - [10/Jul/2024 22:27:43] \"\u001b[36mGET /static/assets/css/main.css HTTP/1.1\u001b[0m\" 304 -\n",
            "INFO:werkzeug:127.0.0.1 - - [10/Jul/2024 22:27:43] \"\u001b[36mGET /static/assets/js/breakpoints.min.js HTTP/1.1\u001b[0m\" 304 -\n",
            "INFO:werkzeug:127.0.0.1 - - [10/Jul/2024 22:27:43] \"\u001b[36mGET /static/assets/js/main.js HTTP/1.1\u001b[0m\" 304 -\n",
            "INFO:werkzeug:127.0.0.1 - - [10/Jul/2024 22:27:43] \"\u001b[36mGET /static/assets/js/jquery.scrollex.min.js HTTP/1.1\u001b[0m\" 304 -\n",
            "INFO:werkzeug:127.0.0.1 - - [10/Jul/2024 22:27:43] \"\u001b[36mGET /static/assets/js/jquery.scrolly.min.js HTTP/1.1\u001b[0m\" 304 -\n",
            "INFO:werkzeug:127.0.0.1 - - [10/Jul/2024 22:27:43] \"\u001b[36mGET /static/assets/js/jquery.min.js HTTP/1.1\u001b[0m\" 304 -\n",
            "INFO:werkzeug:127.0.0.1 - - [10/Jul/2024 22:27:43] \"\u001b[36mGET /static/assets/js/browser.min.js HTTP/1.1\u001b[0m\" 304 -\n",
            "INFO:werkzeug:127.0.0.1 - - [10/Jul/2024 22:27:43] \"\u001b[36mGET /static/assets/js/util.js HTTP/1.1\u001b[0m\" 304 -\n",
            "INFO:werkzeug:127.0.0.1 - - [10/Jul/2024 22:27:43] \"\u001b[36mGET /static/assets/css/fontawesome-all.min.css HTTP/1.1\u001b[0m\" 304 -\n",
            "INFO:werkzeug:127.0.0.1 - - [10/Jul/2024 22:27:43] \"GET /static/assets/webfonts/fa-solid-900.woff2 HTTP/1.1\" 200 -\n",
            "INFO:werkzeug:127.0.0.1 - - [10/Jul/2024 22:27:43] \"\u001b[33mGET /static/images/overlay.png HTTP/1.1\u001b[0m\" 404 -\n",
            "INFO:werkzeug:127.0.0.1 - - [10/Jul/2024 22:27:43] \"\u001b[36mGET /static/images/bg.jpg HTTP/1.1\u001b[0m\" 304 -\n",
            "ERROR:__main__:Exception on /results [POST]\n",
            "Traceback (most recent call last):\n",
            "  File \"/usr/local/lib/python3.10/dist-packages/pandas/core/indexes/base.py\", line 3653, in get_loc\n",
            "    return self._engine.get_loc(casted_key)\n",
            "  File \"pandas/_libs/index.pyx\", line 147, in pandas._libs.index.IndexEngine.get_loc\n",
            "  File \"pandas/_libs/index.pyx\", line 176, in pandas._libs.index.IndexEngine.get_loc\n",
            "  File \"pandas/_libs/hashtable_class_helper.pxi\", line 7080, in pandas._libs.hashtable.PyObjectHashTable.get_item\n",
            "  File \"pandas/_libs/hashtable_class_helper.pxi\", line 7088, in pandas._libs.hashtable.PyObjectHashTable.get_item\n",
            "KeyError: False\n",
            "\n",
            "The above exception was the direct cause of the following exception:\n",
            "\n",
            "Traceback (most recent call last):\n",
            "  File \"/usr/local/lib/python3.10/dist-packages/flask/app.py\", line 2529, in wsgi_app\n",
            "    response = self.full_dispatch_request()\n",
            "  File \"/usr/local/lib/python3.10/dist-packages/flask/app.py\", line 1825, in full_dispatch_request\n",
            "    rv = self.handle_user_exception(e)\n",
            "  File \"/usr/local/lib/python3.10/dist-packages/flask/app.py\", line 1823, in full_dispatch_request\n",
            "    rv = self.dispatch_request()\n",
            "  File \"/usr/local/lib/python3.10/dist-packages/flask/app.py\", line 1799, in dispatch_request\n",
            "    return self.ensure_sync(self.view_functions[rule.endpoint])(**view_args)\n",
            "  File \"<ipython-input-159-6e5381a1c606>\", line 42, in results\n",
            "    anime_id = Untampered_anime_df[Untampered_anime_df['Name'].iloc[0].lower() == anime_name.lower()]['MAL_ID'].iloc[0]\n",
            "  File \"/usr/local/lib/python3.10/dist-packages/pandas/core/frame.py\", line 3761, in __getitem__\n",
            "    indexer = self.columns.get_loc(key)\n",
            "  File \"/usr/local/lib/python3.10/dist-packages/pandas/core/indexes/base.py\", line 3655, in get_loc\n",
            "    raise KeyError(key) from err\n",
            "KeyError: False\n",
            "INFO:werkzeug:127.0.0.1 - - [10/Jul/2024 22:27:52] \"\u001b[35m\u001b[1mPOST /results HTTP/1.1\u001b[0m\" 500 -\n"
          ]
        }
      ]
    }
  ]
}